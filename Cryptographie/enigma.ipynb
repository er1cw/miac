{
 "cells": [
  {
   "cell_type": "markdown",
   "metadata": {},
   "source": [
    "# La machine Enigma\n",
    "\n",
    "<img src=\"enigma_logo.jpg\" width=\"25%\" alt=\"logo enigma\"/>\n",
    "\n",
    "<center>\n",
    "       MIAC Team <br/>\n",
    "       Faculté Sciences et Technologies<br/>\n",
    "       Université de Lille<br/>\n",
    "       Mars 2019\n",
    "</center>\n",
    "Sources iconographiques [Wikipedia](https://fr.wikipedia.org/wiki/Enigma_%28machine%29) et Univ. Lille.\n",
    "\n",
    "[<img src=\"cc-by-nc-sa.png\" align=\"right\" />](https://creativecommons.org/licenses/by-nc-sa/2.0/fr/)"
   ]
  },
  {
   "cell_type": "markdown",
   "metadata": {},
   "source": [
    "## Description"
   ]
  },
  {
   "cell_type": "markdown",
   "metadata": {},
   "source": [
    "Enigma est une machine électromécanique portable servant au chiffrement et au déchiffrement de l'information. Elle fut inventée par l'Allemand Arthur Scherbius, reprenant un brevet du Néerlandais Hugo Koch, datant de 1919. Enigma fut utilisée principalement par les Allemands (Die Chiffriermaschine Enigma) pendant la Seconde Guerre mondiale.\n",
    "\n",
    "<img src=\"enigma_1940.jpg\" width=\"25%\" align=\"center\" alt=\"machine enigma 1940\"/>\n",
    "\n",
    "L'idée derrière Enigma est de s'approcher d'un chiffrement parfait en changeant la correspondance entre les lettres à chaque lettre codée. La machine Enigma est une machine  ́électro-mécanique. Elle est muni d'un clavier et d'un «écran». Lorsqu'on appuie sur une touche, un circuit électrique se ferme et une lettre s'allume sur l'écran.\n",
    "\n",
    "Le circuit électrique est constitué de plusieurs  ́éléments en chaîne :\n",
    "\n",
    "1. un tableau de connexions ;\n",
    "2. des rotors ;\n",
    "3. un réflecteur."
   ]
  },
  {
   "cell_type": "markdown",
   "metadata": {
    "heading_collapsed": true
   },
   "source": [
    "### Tableau de connexions"
   ]
  },
  {
   "cell_type": "markdown",
   "metadata": {
    "hidden": true
   },
   "source": [
    "<img src=\"enigma_plugboard.jpg\" width=\"25%\" align=\"center\" alt=\"tableau de connexions\"/>\n",
    "\n",
    "Ce tableau, situé sur la façade avant de la machine, permet d'échanger des paires de lettres de l'alphabet au moyen\n",
    "de fiches. Les machines Enigma échangent ainsi jusqu'à 10 paires de lettres. C'est la première partie de la clé.\n",
    "\n",
    "Schématiquement, nous représenterons ce fichage par :\n",
    "\n",
    "<img src=\"enigma_plugboard_schema_simplifie.png\" width=\"25%\" align=\"center\" alt=\"schéma simpifié tableau de connexions\"/>"
   ]
  },
  {
   "cell_type": "markdown",
   "metadata": {},
   "source": [
    "### Rotors"
   ]
  },
  {
   "cell_type": "markdown",
   "metadata": {},
   "source": [
    "Chaque rotor permet une substitution mono-alphabétique : à chaque lettre en entrée correspond une autre lettre en sortie. Par exemple, le rotor suivant :\n",
    "\n",
    "<img src=\"enigma_rotor_simplifie.png\" width=\"25%\" align=\"center\" alt=\"deux rotors consécutifs\"/>\n",
    "\n",
    "donne la substitution \n",
    "\n",
    "| A | B | C | D | E | F |\n",
    "|---|---|---|---|---|---|\n",
    "| E | A | F | B | D | C |\n",
    " \n",
    "On peut composer les rotors et les mettre les uns à la suite des autres, dans l'ordre que l’on veut, ce qui est une partie de la clé. La machine Enigma disposera, au gré de ses evolutions de 3 à 6 rotors. De plus, lorsqu'on a tapé une lettre, le premier rotor tourne d’un cran et la permutation\n",
    "qu'il engendre est changée :\n",
    "\n",
    "<img src=\"enigma_2_rotors_consecutifs.png\" width=\"50%\" align=\"center\" alt=\"deux rotors consécutifs\"/>\n",
    "\n",
    "Chaque rotor possède 26 positions. À chaque fois qu'une lettre est tapée, le premier rotor tourne d’un cran. Après 26 lettres, il est revenu à sa position initiale, et le second rotor tourne alors d’un cran. On recommence à faire tourner le premier rotor, et ainsi de suite... Quand le second rotor a retrouvé sa position initiale, c'est le troisième rotor qui tourne d’un cran. Au cours de ses  ́evolutions, les machines Enigma ont compté jusqu'à 5 rotors. On choisissait 3 rotors parmi les 5 rotors pour le codage."
   ]
  },
  {
   "cell_type": "markdown",
   "metadata": {},
   "source": [
    "### Réflecteur"
   ]
  },
  {
   "cell_type": "markdown",
   "metadata": {},
   "source": [
    "Au bout des 3 rotors se situe une dernière permutation qui permet de revenir «en arrière». On permute une dernière fois les lettres 2 par 2, et on les fait retraverser les rotors, et le tableau de connexion. Sur certaine machine Enigma, le réflecteur  ́était fixe, d'autres machines proposaient différents choix de réflecteurs, d’autres encore avait un réflecteur reconfigurable...\n",
    "\n",
    "<img src=\"enigma_reflecteur.png\" width=\"25%\" align=\"center\" alt=\"réflecteur\"/>"
   ]
  },
  {
   "cell_type": "markdown",
   "metadata": {},
   "source": [
    "### En résumé"
   ]
  },
  {
   "cell_type": "markdown",
   "metadata": {},
   "source": [
    "Résumons sur la machine simplifiée suivante (6 lettres, 2 rotors) comment est codée la lettre `A` :\n",
    "\n",
    "<img src=\"enigma_schema_electrique.png\" width=\"50%\" align=\"center\" alt=\"schéma électrique (simpifié) complet\"/>\n",
    "\n",
    "* on traverse le tableau de connexions : on obtient `C` ;\n",
    "* on traverse les 2 rotors : on obtient successivement `F` et `E` ;\n",
    "* on traverse le réflecteur où on obtient `F`, puis on renvoie dans les rotors pour obtenir `A`, `B` et finalement `B` après le tableau de connexions.\n",
    "\n",
    "Remarquons que si on avait tapé `B`, le courant aurait circulé dans l'autre sens et on aurait obtenu `A`."
   ]
  },
  {
   "cell_type": "markdown",
   "metadata": {},
   "source": [
    "## Nombre de clés"
   ]
  },
  {
   "cell_type": "markdown",
   "metadata": {},
   "source": [
    "Considérons une machine Enigma qui fonctionne avec trois rotors à choisir parmi cinq (I, II, III, IV et V), et offre le choix entre deux réflecteurs (B et C).\n",
    "\n",
    "Appelons *clé* la configuration de cette machine à établir pour chiffrer/déchiffrer un message. Une clé est déterminée par\n",
    "\n",
    "* le choix du réflecteur ;\n",
    "* le choix des trois rotors utilisés et de leur placement sur la machine ;\n",
    "* le réglage initial de chacun des trois rotors placés dans la machine ;\n",
    "* les appariements choisis sur le tableau de connexions.\n",
    "\n",
    "Combien y a-t-il de clés ?"
   ]
  },
  {
   "cell_type": "markdown",
   "metadata": {},
   "source": [
    "### Choix du réflecteur"
   ]
  },
  {
   "cell_type": "markdown",
   "metadata": {},
   "source": [
    "Il faut choisir entre les deux réflecteurs B et C. Il y a deux possibilités."
   ]
  },
  {
   "cell_type": "code",
   "execution_count": 13,
   "metadata": {
    "ExecuteTime": {
     "end_time": "2019-03-19T16:49:11.970374Z",
     "start_time": "2019-03-19T16:49:11.966045Z"
    },
    "collapsed": true
   },
   "outputs": [],
   "source": [
    "nb_refl = 2"
   ]
  },
  {
   "cell_type": "markdown",
   "metadata": {},
   "source": [
    "### Choix et placement des rotors"
   ]
  },
  {
   "cell_type": "markdown",
   "metadata": {},
   "source": [
    "Il y a cinq rotors et il faut en choisir trois et les placer.\n",
    "\n",
    "* pour le rotor à placer le plus à gauche on a cinq choix ;\n",
    "* une fois ce rotor placé, il reste quatre choix pour le rotor du milieu ;\n",
    "* une foix placés ces deux rotors, il rest trois choix pour le rotor de droite.\n",
    "\n",
    "Ce qui donne $5\\times 4\\times 3$ choix pour les rotors."
   ]
  },
  {
   "cell_type": "code",
   "execution_count": 14,
   "metadata": {
    "ExecuteTime": {
     "end_time": "2019-03-19T16:49:16.906020Z",
     "start_time": "2019-03-19T16:49:16.901098Z"
    }
   },
   "outputs": [
    {
     "data": {
      "text/plain": [
       "60"
      ]
     },
     "execution_count": 14,
     "metadata": {},
     "output_type": "execute_result"
    }
   ],
   "source": [
    "nb_rotors = 5 * 4 * 3\n",
    "nb_rotors"
   ]
  },
  {
   "cell_type": "markdown",
   "metadata": {},
   "source": [
    "### Réglage initial des rotors"
   ]
  },
  {
   "cell_type": "markdown",
   "metadata": {},
   "source": [
    "Il s'agit de positionner le point de départ de chacun des trois rotors, chacun d'eux pouvant être positionnés sur n'importe quelle lettres de l'alphabet latin de façon indépendante.\n",
    "\n",
    "On a alors $26^3$ réglages possibles des trois rotors."
   ]
  },
  {
   "cell_type": "code",
   "execution_count": 15,
   "metadata": {
    "ExecuteTime": {
     "end_time": "2019-03-19T16:49:23.590623Z",
     "start_time": "2019-03-19T16:49:23.585847Z"
    }
   },
   "outputs": [
    {
     "data": {
      "text/plain": [
       "17576"
      ]
     },
     "execution_count": 15,
     "metadata": {},
     "output_type": "execute_result"
    }
   ],
   "source": [
    "nb_regl_rotors = 26**3\n",
    "nb_regl_rotors"
   ]
  },
  {
   "cell_type": "markdown",
   "metadata": {},
   "source": [
    "**Remarque :** les rotors disposaient de réglages internes, dont on ne tiendra pas compte ici, qui augmente encore le nombre de clés possibles."
   ]
  },
  {
   "cell_type": "markdown",
   "metadata": {},
   "source": [
    "### Appariements "
   ]
  },
  {
   "cell_type": "markdown",
   "metadata": {},
   "source": [
    "C'est le choix des appariements de lettres sur le tableau de connexions qui contribue de façon importante au grand nombre de clés.\n",
    "\n",
    "Disposant de 10 fiches, on peut choisir d'apparier entre 0 et 10 couples de lettres.\n",
    "\n",
    "Avec 6 fiches, on choisit \n",
    "* deux lettres parmi 26 :  $\\binom{26}{2}$ possibilités,\n",
    "* puis deux lettres parmi les 24 restantes : $\\binom{24}{2}$ possibilités,\n",
    "* puis deux lettres parmi les 22 restantes : $\\binom{22}{2}$ possibilités,\n",
    "* puis deux lettres parmi les 20 restantes : $\\binom{20}{2}$ possibilités,\n",
    "* puis deux lettres parmi les 18 restantes : $\\binom{18}{2}$ possibilités,\n",
    "* enfin deux lettres parmi les 16 restantes : $\\binom{16}{2}$ possibilités.\n",
    "\n",
    "Mais comme permuter (A,B), (C,D), (E,F), (G,H), (I,J) et (J,K) est la même chose que permuter (C,D), (A,B), (E,F), (G,H), (I,J) et (J,K), il faut encore diviser par $6!$ ce qui nous donne\n",
    "\n",
    "$$\\frac{\\binom{26}{2}\\times\\binom{24}{2}\\times\\binom{22}{2}\\times\\binom{20}{2}\\times\\binom{18}{2}\\times\\binom{16}{2}}{6!} = \\frac{26!}{14!\\times 6!\\times 2^6} \\mbox{ possibilités}.$$\n",
    "\n",
    "Plus généralement avec $k$ fiches, $0\\leq k \\leq 10$, on a $\\frac{26!}{(26-2k)!k!2^k}$ possibilités."
   ]
  },
  {
   "cell_type": "code",
   "execution_count": 17,
   "metadata": {
    "ExecuteTime": {
     "end_time": "2019-03-19T16:49:39.332838Z",
     "start_time": "2019-03-19T16:49:38.931831Z"
    },
    "collapsed": true
   },
   "outputs": [],
   "source": [
    "from sympy import factorial"
   ]
  },
  {
   "cell_type": "code",
   "execution_count": 18,
   "metadata": {
    "ExecuteTime": {
     "end_time": "2019-03-19T16:49:39.646780Z",
     "start_time": "2019-03-19T16:49:39.640673Z"
    }
   },
   "outputs": [
    {
     "data": {
      "text/plain": [
       "100391791500"
      ]
     },
     "execution_count": 18,
     "metadata": {},
     "output_type": "execute_result"
    }
   ],
   "source": [
    "nb_appariements = lambda k: factorial(26)//(factorial(26 - 2*k)*factorial(k)*2**k)\n",
    "nb_appariements(6)"
   ]
  },
  {
   "cell_type": "markdown",
   "metadata": {},
   "source": [
    "### Conclusion"
   ]
  },
  {
   "cell_type": "code",
   "execution_count": null,
   "metadata": {
    "collapsed": true
   },
   "outputs": [],
   "source": []
  },
  {
   "cell_type": "markdown",
   "metadata": {},
   "source": [
    "Le calcul ci-dessous affiche un petit tableau donnant de gauche à droite le nombre de fiches et le nombre de clés correspondant (valeur exacte d'abord, ordre de grandeur ensuite)."
   ]
  },
  {
   "cell_type": "code",
   "execution_count": 6,
   "metadata": {
    "ExecuteTime": {
     "end_time": "2019-03-19T15:40:16.001635Z",
     "start_time": "2019-03-19T15:40:15.971846Z"
    }
   },
   "outputs": [
    {
     "name": "stdout",
     "output_type": "stream",
     "text": [
      " 0 |               2109120 | 2.11e+06\n",
      " 1 |             685464000 | 6.85e+08\n",
      " 2 |           94594032000 | 9.46e+10\n",
      " 3 |         7283740464000 | 7.28e+12\n",
      " 4 |       345977672040000 | 3.46e+14\n",
      " 5 |     10586916764424000 | 1.06e+16\n",
      " 6 |    211738335288480000 | 2.12e+17\n",
      " 7 |   2752598358750240000 | 2.75e+18\n",
      " 8 |  22708936459689480000 | 2.27e+19\n",
      " 9 | 113544682298447400000 | 1.14e+20\n",
      "10 | 317925110435652720000 | 3.18e+20\n"
     ]
    }
   ],
   "source": [
    "for k in range(11):\n",
    "    nb_cles = nb_refl*nb_rotors*nb_regl_rotors*nb_appariements(k)\n",
    "    print('{:2d} | {:>21} | {:.2e}'.format(k, str(nb_cles), float(nb_cles)))"
   ]
  },
  {
   "cell_type": "markdown",
   "metadata": {
    "collapsed": true
   },
   "source": [
    "## Enigma en Python"
   ]
  },
  {
   "cell_type": "markdown",
   "metadata": {},
   "source": [
    "[Py-Enigma](https://py-enigma.readthedocs.io/en/latest/) est une bibliothèque permettant de simuler une machine Enigma avec le langage Python.\n",
    "\n",
    "Pour installer cette bibliothèque, utiliser la commande\n",
    "\n",
    "```bash\n",
    "pip install py_enigma\n",
    "```"
   ]
  },
  {
   "cell_type": "code",
   "execution_count": 2,
   "metadata": {
    "ExecuteTime": {
     "end_time": "2019-03-19T16:38:25.933791Z",
     "start_time": "2019-03-19T16:38:25.922952Z"
    },
    "collapsed": true
   },
   "outputs": [],
   "source": [
    "from enigma.machine import EnigmaMachine"
   ]
  },
  {
   "cell_type": "markdown",
   "metadata": {},
   "source": [
    "### Réglage d'une machine"
   ]
  },
  {
   "cell_type": "markdown",
   "metadata": {},
   "source": [
    "Pour obtenir une machine Enigma virtuelle, on utilise la méthode `from_key_sheet` en précisant quelques paramètres :\n",
    "\n",
    "* les rotors : paramètre `rotors` dont la valeur doit être une chaîne de caractères précisant les rotors choisis et leur placement de gauche à droite. Les rotors sont désignés par les chiffres romains de I à V séparés par des espaces ;\n",
    "* le réflector : paramètre `reflector` pouvant prendre deux valeurs `'B'` ou `'C'` ;\n",
    "* le tableau de connexions : paramètre `plugboard_settings` dont la valeur doit être une chaîne de caractères décrivant les appariements de lettres choisis séparés par des espaces."
   ]
  },
  {
   "cell_type": "code",
   "execution_count": 8,
   "metadata": {
    "ExecuteTime": {
     "end_time": "2019-03-19T15:52:51.749537Z",
     "start_time": "2019-03-19T15:52:51.743362Z"
    },
    "collapsed": true
   },
   "outputs": [],
   "source": [
    "machine = EnigmaMachine.from_key_sheet(rotors='III IV II',\n",
    "                                       reflector='C',\n",
    "                                       plugboard_settings='CE DV IO NR ST QX AP')"
   ]
  },
  {
   "cell_type": "markdown",
   "metadata": {},
   "source": [
    "### Opérations de chiffrement/déchiffrement"
   ]
  },
  {
   "cell_type": "markdown",
   "metadata": {
    "ExecuteTime": {
     "end_time": "2019-03-17T17:11:47.435587Z",
     "start_time": "2019-03-17T17:11:47.426600Z"
    }
   },
   "source": [
    "Avant de commencer toute opération de chiffrement/déchiffrement, il convient de régler les trois rotors avec la méthode `set_display` de la machine."
   ]
  },
  {
   "cell_type": "code",
   "execution_count": 9,
   "metadata": {
    "ExecuteTime": {
     "end_time": "2019-03-19T15:55:03.748049Z",
     "start_time": "2019-03-19T15:55:03.741871Z"
    },
    "collapsed": true
   },
   "outputs": [],
   "source": [
    "machine.set_display('PIX')"
   ]
  },
  {
   "cell_type": "markdown",
   "metadata": {},
   "source": [
    "La méthode `get_display` permet de visualiser à tout moment le réglage actuel des rotors."
   ]
  },
  {
   "cell_type": "code",
   "execution_count": 10,
   "metadata": {
    "ExecuteTime": {
     "end_time": "2019-03-19T15:55:14.042626Z",
     "start_time": "2019-03-19T15:55:14.037542Z"
    }
   },
   "outputs": [
    {
     "data": {
      "text/plain": [
       "'PIX'"
      ]
     },
     "execution_count": 10,
     "metadata": {},
     "output_type": "execute_result"
    }
   ],
   "source": [
    "machine.get_display()"
   ]
  },
  {
   "cell_type": "markdown",
   "metadata": {},
   "source": [
    "#### Chiffrer une lettre à la fois"
   ]
  },
  {
   "cell_type": "markdown",
   "metadata": {},
   "source": [
    "La méthode `key_press` simule l'effet de l'appui d'une touche du clavier de la machine, et donne la lettre correspondante qui s'allume à l'écran."
   ]
  },
  {
   "cell_type": "code",
   "execution_count": 11,
   "metadata": {
    "ExecuteTime": {
     "end_time": "2019-03-19T15:56:20.123866Z",
     "start_time": "2019-03-19T15:56:20.117584Z"
    }
   },
   "outputs": [
    {
     "data": {
      "text/plain": [
       "'I'"
      ]
     },
     "execution_count": 11,
     "metadata": {},
     "output_type": "execute_result"
    }
   ],
   "source": [
    "machine.key_press('A')"
   ]
  },
  {
   "cell_type": "markdown",
   "metadata": {},
   "source": [
    "À noter que chaque appui d'une touche au clavier a un effet de bord : le rotor le plus à droite tourne d'un cran,"
   ]
  },
  {
   "cell_type": "code",
   "execution_count": 12,
   "metadata": {
    "ExecuteTime": {
     "end_time": "2019-03-19T15:56:45.046552Z",
     "start_time": "2019-03-19T15:56:45.043297Z"
    }
   },
   "outputs": [
    {
     "data": {
      "text/plain": [
       "'PIY'"
      ]
     },
     "execution_count": 12,
     "metadata": {},
     "output_type": "execute_result"
    }
   ],
   "source": [
    "machine.get_display()"
   ]
  },
  {
   "cell_type": "markdown",
   "metadata": {},
   "source": [
    "ce qui a pour effet qu'un nouvel appui sur la même touche produit une autre lettre correspondante "
   ]
  },
  {
   "cell_type": "code",
   "execution_count": 13,
   "metadata": {
    "ExecuteTime": {
     "end_time": "2019-03-19T15:57:30.548434Z",
     "start_time": "2019-03-19T15:57:30.539389Z"
    }
   },
   "outputs": [
    {
     "data": {
      "text/plain": [
       "'U'"
      ]
     },
     "execution_count": 13,
     "metadata": {},
     "output_type": "execute_result"
    }
   ],
   "source": [
    "machine.key_press('A')"
   ]
  },
  {
   "cell_type": "markdown",
   "metadata": {},
   "source": [
    "et une nouvelle rotation d'un cran du rotor le plus à droite."
   ]
  },
  {
   "cell_type": "code",
   "execution_count": 14,
   "metadata": {
    "ExecuteTime": {
     "end_time": "2019-03-19T15:57:46.535911Z",
     "start_time": "2019-03-19T15:57:46.526935Z"
    }
   },
   "outputs": [
    {
     "data": {
      "text/plain": [
       "'PIZ'"
      ]
     },
     "execution_count": 14,
     "metadata": {},
     "output_type": "execute_result"
    }
   ],
   "source": [
    "machine.get_display()"
   ]
  },
  {
   "cell_type": "markdown",
   "metadata": {},
   "source": [
    "Si on chiffre encore une lettre,"
   ]
  },
  {
   "cell_type": "code",
   "execution_count": 15,
   "metadata": {
    "ExecuteTime": {
     "end_time": "2019-03-19T15:58:02.123159Z",
     "start_time": "2019-03-19T15:58:02.118683Z"
    }
   },
   "outputs": [
    {
     "data": {
      "text/plain": [
       "'C'"
      ]
     },
     "execution_count": 15,
     "metadata": {},
     "output_type": "execute_result"
    }
   ],
   "source": [
    "machine.key_press('A')"
   ]
  },
  {
   "cell_type": "markdown",
   "metadata": {},
   "source": [
    "le rotor le plus à droite a encore tourné d'un cran,"
   ]
  },
  {
   "cell_type": "code",
   "execution_count": 16,
   "metadata": {
    "ExecuteTime": {
     "end_time": "2019-03-19T15:58:06.918586Z",
     "start_time": "2019-03-19T15:58:06.911696Z"
    }
   },
   "outputs": [
    {
     "data": {
      "text/plain": [
       "'PIA'"
      ]
     },
     "execution_count": 16,
     "metadata": {},
     "output_type": "execute_result"
    }
   ],
   "source": [
    "machine.get_display()"
   ]
  },
  {
   "cell_type": "markdown",
   "metadata": {},
   "source": [
    "#### Déchiffrer une lettre à la fois"
   ]
  },
  {
   "cell_type": "markdown",
   "metadata": {},
   "source": [
    "La conception de la machine Enigma fait que le déchiffrement se fait exactement de la même manière que le chiffrement. Pour déchiffrer il suffit donc de régler la machine comme pour le chiffrement, puis de taper le message chiffré. "
   ]
  },
  {
   "cell_type": "code",
   "execution_count": 17,
   "metadata": {
    "ExecuteTime": {
     "end_time": "2019-03-19T16:02:05.367039Z",
     "start_time": "2019-03-19T16:02:05.356731Z"
    }
   },
   "outputs": [
    {
     "name": "stdout",
     "output_type": "stream",
     "text": [
      "A\n",
      "A\n",
      "A\n"
     ]
    }
   ],
   "source": [
    "machine.set_display('PIX')\n",
    "for lettre in 'IUC':\n",
    "    print(machine.key_press(lettre))"
   ]
  },
  {
   "cell_type": "markdown",
   "metadata": {
    "solution": "hidden"
   },
   "source": [
    "#### Chiffrer un message complet en une fois"
   ]
  },
  {
   "cell_type": "markdown",
   "metadata": {},
   "source": [
    "Voici un exemple de chiffrement d'un message plus long :"
   ]
  },
  {
   "cell_type": "code",
   "execution_count": 18,
   "metadata": {
    "ExecuteTime": {
     "end_time": "2019-03-19T16:03:59.380924Z",
     "start_time": "2019-03-19T16:03:59.373869Z"
    }
   },
   "outputs": [
    {
     "data": {
      "text/plain": [
       "'UIAXRWHNFXLIMCUKKMGQVQAFRLO'"
      ]
     },
     "execution_count": 18,
     "metadata": {},
     "output_type": "execute_result"
    }
   ],
   "source": [
    "machine.set_display('PIX')\n",
    "msg_clair = 'CECI EST UN ESSAI PLUS LONG'\n",
    "msg_chiffre = machine.process_text(msg_clair)\n",
    "msg_chiffre"
   ]
  },
  {
   "cell_type": "markdown",
   "metadata": {},
   "source": [
    "Pour déchiffrer le message, il suffit de remettre le réglage des rotors et de faire appel à la même méthode. "
   ]
  },
  {
   "cell_type": "code",
   "execution_count": 19,
   "metadata": {
    "ExecuteTime": {
     "end_time": "2019-03-19T16:04:50.942409Z",
     "start_time": "2019-03-19T16:04:50.938897Z"
    }
   },
   "outputs": [
    {
     "data": {
      "text/plain": [
       "'CECIXESTXUNXESSAIXPLUSXLONG'"
      ]
     },
     "execution_count": 19,
     "metadata": {},
     "output_type": "execute_result"
    }
   ],
   "source": [
    "machine.set_display('PIX')\n",
    "machine.process_text(msg_chiffre)"
   ]
  },
  {
   "cell_type": "markdown",
   "metadata": {
    "solution": "shown"
   },
   "source": [
    "**Remarque :** à noter que les espaces du message clair initial ont été changées en `X`."
   ]
  },
  {
   "cell_type": "markdown",
   "metadata": {
    "solution": "shown"
   },
   "source": [
    "### Exercice"
   ]
  },
  {
   "cell_type": "markdown",
   "metadata": {},
   "source": [
    "Le module `cryptogrammes_enigma` définit un tuple de cryptogrammes obtenus à l'aide de la machine Enigma.\n",
    "Les textes clairs correspondant sont des textes français."
   ]
  },
  {
   "cell_type": "code",
   "execution_count": 3,
   "metadata": {
    "ExecuteTime": {
     "end_time": "2019-03-19T16:38:50.602149Z",
     "start_time": "2019-03-19T16:38:50.597242Z"
    },
    "collapsed": true
   },
   "outputs": [],
   "source": [
    "from cryptogrammes_enigma import CRYPTOGRAMMES"
   ]
  },
  {
   "cell_type": "markdown",
   "metadata": {},
   "source": [
    "Voici les premiers caractères de chacun de ces cryptogrammes :"
   ]
  },
  {
   "cell_type": "code",
   "execution_count": null,
   "metadata": {
    "ExecuteTime": {
     "end_time": "2019-03-19T12:40:29.623716Z",
     "start_time": "2019-03-19T12:40:29.619767Z"
    },
    "collapsed": true
   },
   "outputs": [],
   "source": [
    "for i in range(len(CRYPTOGRAMMES)):\n",
    "    print('Cryptogramme {:d} : {:s}'.format(i, CRYPTOGRAMMES[i][:40]))"
   ]
  },
  {
   "cell_type": "markdown",
   "metadata": {
    "solution": "shown",
    "solution_first": true
   },
   "source": [
    "Le premier cryptogramme a été chiffré avec les réglages suivant :\n",
    "\n",
    "* réflecteur : C\n",
    "* rotors : III II I\n",
    "* tableaux de connexions : AB CD EF GH IJ KL\n",
    "* réglage initial des rotors : AEC\n",
    "\n",
    "Déchiffrez-le !"
   ]
  },
  {
   "cell_type": "code",
   "execution_count": null,
   "metadata": {
    "ExecuteTime": {
     "end_time": "2019-03-19T12:40:29.751252Z",
     "start_time": "2019-03-19T12:40:29.741807Z"
    },
    "collapsed": true,
    "solution": "shown"
   },
   "outputs": [],
   "source": [
    "machine = EnigmaMachine.from_key_sheet(\n",
    "    reflector='C',\n",
    "    rotors='III II I',\n",
    "    plugboard_settings='AB CD EF GH IJ KL'\n",
    ")\n",
    "machine.set_display('AEC')\n",
    "machine.process_text(CRYPTOGRAMMES[0])"
   ]
  },
  {
   "cell_type": "markdown",
   "metadata": {},
   "source": [
    "## Cryptanalyse"
   ]
  },
  {
   "cell_type": "markdown",
   "metadata": {},
   "source": [
    "Le nombre de clés très important dès lors qu'on utilise quelques fiches pour apparier les lettres sur le tableau de connexions exclut définitivement la possibilité d'une recherche exhaustive de la clé.\n",
    "\n",
    "Nous allons utiliser une technique statistique d'attaque s'appuyant sur le notion d'indice de coincidences d'un texte. "
   ]
  },
  {
   "cell_type": "markdown",
   "metadata": {
    "solution": "hidden"
   },
   "source": [
    "### Indice de coincidence"
   ]
  },
  {
   "cell_type": "markdown",
   "metadata": {},
   "source": [
    "Considérez un texte (peu importe lequel et peu importe la langue dans laquelle il est écrit). Pointez au hasard deux lettres dans ce texte. Quelle est la probabilité que ces deux lettres soient les mêmes ?"
   ]
  },
  {
   "cell_type": "markdown",
   "metadata": {},
   "source": [
    "Cette probabilité est nommée *indice de coïncidences*. Pour tenter d’en obtenir une expression permettant de la calculer, commencez par vous intéresser à la probabilité que ces deux lettres pointées soient égales à la lettre `A`. En considérant tous les pointages de deux lettres comme équiprobables, cette dernière probabilité peut être obtenue en divisant le nombre de cas favorables par le nombre de cas possibles, les cas possibles désignant toutes les façons de pointer deux lettres, et les cas favorables désignant toutes celles où on obtient deux fois la lettre `A`.\n",
    "\n",
    "Le nombre de cas possibles correspond au nombre de façons de désigner deux positions différentes dans un texte. En notant $N$ le nombre total de lettres du texte, le nombre de cas possibles est \n",
    "\n",
    "$$ \\mbox{nbre cas poss.}= \\binom{N}{2}= \\frac{N(N−1)}{2}.$$\n",
    "\n",
    "Si nous notons $n_A$ le nombre de `A` dans le texte, le nombre de cas favorables est\n",
    "\n",
    "$$ \\mbox{nbre cas fav.} = \\binom{n_A}{2} = \\frac{n_A(n_A−1)}{2}.$$\n",
    "\n",
    "Ainsi la probabilité que se trouvent deux `A` dans deux positions choisies au hasard dans un texte de longueur $N$, contenant $n_A$ occurrences de la lettre `A` est donné par la formule :\n",
    "\n",
    "$$ \\mbox{Pr}(2A) = \\frac{n_A(n_A−1)}{N(N−1)}.$$\n",
    "\n",
    "Le raisonnement tenu pour la lettre `A` est valable pour n’importe quelle lettre $x$ de l’alphabet $\\mathcal{A}$\n",
    "utilisé. Pour chaque lettre $x$, s’il y a $n_x$ occurrences de cette lettre dans le texte, la probabilité qu’à deux positions choisies au hasard se trouvent deux lettres $x$ est donnée par la formule :\n",
    "\n",
    "$$ \\mbox{Pr}(2x) = \\frac{n_x(n_x−1)}{N(N−1)}.$$\n",
    "\n",
    "En sommant sur toutes les lettres, on obtient pour l’indice de coïncidences $I(T)$ d’un texte $T$ la formule :\n",
    "\n",
    "$$I(T) = \\sum_{x\\in\\mathcal{A}}\\mbox{Pr}(2x) = \\frac{1}{N(N−1)}\\sum_{x\\in\\mathcal{A}}n_x(n_x−1). $$\n",
    "\n",
    "L'introduction de cette notion d'indice de coincidences en cryptanalyse est due à [William F. Friedman](https://fr.wikipedia.org/wiki/William_F._Friedman) et date de 1920."
   ]
  },
  {
   "cell_type": "markdown",
   "metadata": {},
   "source": [
    "Avec la machine Enigma, l'alphabet $\\mathcal{A}$ est l'alphabet des 26 lettres latines non accentuées."
   ]
  },
  {
   "cell_type": "code",
   "execution_count": 1,
   "metadata": {
    "ExecuteTime": {
     "end_time": "2019-03-19T16:38:10.111787Z",
     "start_time": "2019-03-19T16:38:10.108622Z"
    },
    "collapsed": true
   },
   "outputs": [],
   "source": [
    "from alphabet import ALPHABETS\n",
    "ALPHABET = ALPHABETS['CAPITAL_LATIN']"
   ]
  },
  {
   "cell_type": "code",
   "execution_count": 4,
   "metadata": {
    "ExecuteTime": {
     "end_time": "2019-03-19T16:39:10.676145Z",
     "start_time": "2019-03-19T16:39:10.666583Z"
    },
    "collapsed": true
   },
   "outputs": [],
   "source": [
    "def nb_occurrences(txt):\n",
    "    '''\n",
    "    :param txt: (str) un texte\n",
    "    :valeur renvoyée: (dict) un dictionnaire dont les clés sont les lettres de ALPHABET\n",
    "                     et les valeurs associées le nombre d'occurrences de ces lettres dans txt.\n",
    "    :CU: txt ne doit contenir que des lettres de ALPHABET.\n",
    "    :Exemples:\n",
    "    \n",
    "    >>> occ =  nb_occurrences('ALPHABET')\n",
    "    >>> [occ[k] for k in 'ABC']\n",
    "    [2, 1, 0]\n",
    "    '''\n",
    "    res = dict((c, 0) for c in ALPHABET)\n",
    "    for c in txt:\n",
    "        res[c] += 1\n",
    "    return res"
   ]
  },
  {
   "cell_type": "code",
   "execution_count": 6,
   "metadata": {
    "ExecuteTime": {
     "end_time": "2019-03-19T16:41:19.070955Z",
     "start_time": "2019-03-19T16:41:19.067613Z"
    },
    "collapsed": true
   },
   "outputs": [],
   "source": [
    "def indice_coincidences(txt):\n",
    "    \"\"\"\n",
    "    :param txt: (str) un texte\n",
    "    :valeur renvoyée: (float) l'indice de coincidence du texte txt.\n",
    "    :CU: len (txt) >= 2 et tous les caractères de txt sont dans ALPHABET\n",
    "    :Exemple:\n",
    "    \n",
    "    >>> indice_coincidences('ALPHABET') == 2 / (8*7)\n",
    "    True\n",
    "    \"\"\"\n",
    "    occ = nb_occurrences(txt)\n",
    "    N = 0\n",
    "    somme = 0\n",
    "    for c in ALPHABET:\n",
    "        n = occ[c]\n",
    "        somme += n * (n - 1)\n",
    "        N += n\n",
    "    return somme / (N * (N - 1)) "
   ]
  },
  {
   "cell_type": "markdown",
   "metadata": {},
   "source": [
    "Indice de coincidences d'un texte français :"
   ]
  },
  {
   "cell_type": "code",
   "execution_count": 7,
   "metadata": {
    "ExecuteTime": {
     "end_time": "2019-03-19T16:41:42.141812Z",
     "start_time": "2019-03-19T16:41:42.094955Z"
    }
   },
   "outputs": [
    {
     "data": {
      "text/plain": [
       "0.0800810067987849"
      ]
     },
     "execution_count": 7,
     "metadata": {},
     "output_type": "execute_result"
    }
   ],
   "source": [
    "texte1 = 'ILYAAUJOURDHUITROISCENTQUARANTEHUITANSSIXMOISETDIXNEUFJOURSQUELESPARISIENSSEVEILLERENTAUBRUITDETOUTESLESCLOCHESSONNANTAGRANDEVOLEEDANSLATRIPLEENCEINTEDELACITEDELUNIVERSITEETDELAVILLECENESTCEPENDANTPASUNJOURDONTLHISTOIREAITGARDESOUVENIRQUELESIXJANVIERMILLEQUATRECENTQUATREVINGTDEUXRIENDENOTABLEDANSLEVENEMENTQUIMETTAITAINSIENBRANLEDESLEMATINLESCLOCHESETLESBOURGEOISDEPARISCENETAITNIUNASSAUTDEPICARDSOUDEBOURGUIGNONSNIUNECHASSEMENEEENPROCESSIONNIUNEREVOLTEDECOLIERSDANSLAVIGNEDELAASNIUNEENTREEDENOTREDITTRESREDOUTESEIGNEURMONSIEURLEROINIMEMEUNEBELLEPENDAISONDELARRONSETDELARRONNESSESALAJUSTICEDEPARISCENETAITPASNONPLUSLASURVENUESIFREQUENTEAUQUINZIEMESIECLEDEQUELQUEAMBASSADECHAMARREEETEMPANACHEEILYAVAITAPEINEDEUXJOURSQUELADERNIERECAVALCADEDECEGENRECELLEDESAMBASSADEURSFLAMANDSCHARGESDECONCLURELEMARIAGEENTRELEDAUPHINETMARGUERITEDEFLANDREAVAITFAITSONENTREEAPARISAUGRANDENNUIDEMONSIEURLECARDINALDEBOURBONQUIPOURPLAIREAUROIAVAITDUFAIREBONNEMINEATOUTECETTERUSTIQUECOHUEDEBOURGMESTRESFLAMANDSETLESREGALERENSONHOTELDEBOURBONDUNEMOULTBELLEMORALITESOTIEETFARCETANDISQUUNEPLUIEBATTANTEINONDAITASAPORTESESMAGNIFIQUESTAPISSERIES'\n",
    "indice_coincidences(texte1)"
   ]
  },
  {
   "cell_type": "markdown",
   "metadata": {},
   "source": [
    "Indice de coincidences d'un texte anglais :"
   ]
  },
  {
   "cell_type": "code",
   "execution_count": 8,
   "metadata": {
    "ExecuteTime": {
     "end_time": "2019-03-19T16:41:58.612166Z",
     "start_time": "2019-03-19T16:41:58.569137Z"
    }
   },
   "outputs": [
    {
     "data": {
      "text/plain": [
       "0.06827844681253871"
      ]
     },
     "execution_count": 8,
     "metadata": {},
     "output_type": "execute_result"
    }
   ],
   "source": [
    "texte2 = 'MANYYEARSAGOICONTRACTEDANINTIMACYWITHAMRWILLIAMLEGRANDHEWASOFANANCIENTHUGUENOTFAMILYANDHADONCEBEENWEALTHYBUTASERIESOFMISFORTUNESHADREDUCEDHIMTOWANTTOAVOIDTHEMORTIFICATIONCONSEQUENTUPONHISDISASTERSHELEFTNEWORLEANSTHECITYOFHISFOREFATHERSANDTOOKUPHISRESIDENCEATSULLIVANSISLANDNEARCHARLESTONSOUTHCAROLINATHISISLANDISAVERYSINGULARONEITCONSISTSOFLITTLEELSETHANTHESEASANDANDISABOUTTHREEMILESLONGITSBREADTHATNOPOINTEXCEEDSAQUARTEROFAMILEITISSEPARATEDFROMTHEMAINLANDBYASCARCELYPERCEPTIBLECREEKOOZINGITSWAYTHROUGHAWILDERNESSOFREEDSANDSLIMEAFAVORITERESORTOFTHEMARSHHENTHEVEGETATIONASMIGHTBESUPPOSEDISSCANTORATLEASTDWARFISHNOTREESOFANYMAGNITUDEARETOBESEENNEARTHEWESTERNEXTREMITYWHEREFORTMOULTRIESTANDSANDWHEREARESOMEMISERABLEFRAMEBUILDINGSTENANTEDDURINGSUMMERBYTHEFUGITIVESFROMCHARLESTONDUSTANDFEVERMAYBEFOUNDINDEEDTHEBRISTLYPALMETTOBUTTHEWHOLEISLANDWITHTHEEXCEPTIONOFTHISWESTERNPOINTANDALINEOFHARDWHITEBEACHONTHESEACOASTISCOVEREDWITHADENSEUNDERGROWTHOFTHESWEETMYRTLESOMUCHPRIZEDBYTHEHORTICULTURISTSOFENGLANDTHESHRUBHEREOFTENATTAINSTHEHEIGHTOFFIFTEENORTWENTYFEETANDFORMSANALMOSTIMPENETRABLECOPPICEBURTHENINGTHEAIRWITHITSFRAGRANCE'\n",
    "indice_coincidences(texte2)"
   ]
  },
  {
   "cell_type": "markdown",
   "metadata": {},
   "source": [
    "À en croire [Wikipedia](https://fr.wikipedia.org/wiki/Indice_de_co%C3%AFncidence), les indices de coincidences de textes français ont une valeur qui avoisine $7,78\\%$ et ceux de textes anglais $6,67\\%$.\n",
    "\n",
    "Ces indices de coincidences ont une valeur nettement plus élevée que celui d'un texte aléatoire dont chacune des lettres a été tirée au hasard avec une probabilité uniforme.\n",
    "\n",
    "Dans ce cas, le nombre d'occurrences de chacune des lettres $x$ a une valeur dont l'espérance mathématique est $\\frac{N}{26}$, et l'indice de coincidences vaut\n",
    "\n",
    "$$ I(C) = \\frac{1}{N(N-1)}\\sum_{x=0}^{25}\\frac{N}{26}(\\frac{N}{26}-1) = \\frac{\\frac{N}{26} - 1}{N - 1}.$$ \n",
    "\n",
    "Lorsque $N$ tend vers l'infini, cet indice tend vers $\\frac{1}{26}$. Autrement dit, pour un texte aléatoire suffisamment long on peut s'attendre à ce que son indice de coincidences soit approximativement égal à $\\frac{1}{26}\\approx 0.03846$."
   ]
  },
  {
   "cell_type": "code",
   "execution_count": 9,
   "metadata": {
    "ExecuteTime": {
     "end_time": "2019-03-19T16:45:55.056742Z",
     "start_time": "2019-03-19T16:45:55.050938Z"
    }
   },
   "outputs": [
    {
     "data": {
      "text/plain": [
       "0.0381840975939052"
      ]
     },
     "execution_count": 9,
     "metadata": {},
     "output_type": "execute_result"
    }
   ],
   "source": [
    "from random import choice\n",
    "texte3 = ''.join(choice(ALPHABET) for _ in range(len(texte1)))\n",
    "indice_coincidences(texte3)"
   ]
  },
  {
   "cell_type": "code",
   "execution_count": 10,
   "metadata": {
    "ExecuteTime": {
     "end_time": "2019-03-19T16:46:18.854547Z",
     "start_time": "2019-03-19T16:46:18.846312Z"
    }
   },
   "outputs": [
    {
     "data": {
      "text/plain": [
       "0.038461538461538464"
      ]
     },
     "execution_count": 10,
     "metadata": {},
     "output_type": "execute_result"
    }
   ],
   "source": [
    "1/26"
   ]
  },
  {
   "cell_type": "markdown",
   "metadata": {},
   "source": [
    "Qu'en est-il de l'indices de coincidences de nos cryptogrammes ?"
   ]
  },
  {
   "cell_type": "code",
   "execution_count": 11,
   "metadata": {
    "ExecuteTime": {
     "end_time": "2019-03-19T16:46:50.382759Z",
     "start_time": "2019-03-19T16:46:50.371785Z"
    }
   },
   "outputs": [
    {
     "name": "stdout",
     "output_type": "stream",
     "text": [
      "Cryptogramme 0 : 0.037037\n",
      "Cryptogramme 1 : 0.038359\n",
      "Cryptogramme 2 : 0.038307\n"
     ]
    }
   ],
   "source": [
    "for i in range(len(CRYPTOGRAMMES)):\n",
    "    print('Cryptogramme {:d} : {:f}'.format(i, indice_coincidences(CRYPTOGRAMMES[i])))"
   ]
  },
  {
   "cell_type": "markdown",
   "metadata": {
    "ExecuteTime": {
     "end_time": "2019-03-18T12:23:45.075534Z",
     "start_time": "2019-03-18T12:23:45.067765Z"
    }
   },
   "source": [
    "Ces cryptogrammes ont un indice proche d'un texte aléatoire."
   ]
  },
  {
   "cell_type": "markdown",
   "metadata": {
    "heading_collapsed": true
   },
   "source": [
    "#### Exercices"
   ]
  },
  {
   "cell_type": "markdown",
   "metadata": {
    "hidden": true,
    "solution": "hidden",
    "solution_first": true
   },
   "source": [
    "** Exercice **\n",
    "\n",
    "Comparez l'indice de coincidences du premier cryptogramme \n",
    "\n",
    "* avec celui du texte obtenu en le déchiffrant avec une machine Enigma ayant les mêmes paramètres que ceux permettant de le déchiffrer, mais sans les appariements,\n",
    "* et avec celui du texte obtenu avec les appariements."
   ]
  },
  {
   "cell_type": "code",
   "execution_count": null,
   "metadata": {
    "ExecuteTime": {
     "end_time": "2019-03-19T12:40:31.312601Z",
     "start_time": "2019-03-19T12:40:31.307070Z"
    },
    "collapsed": true,
    "hidden": true,
    "solution": "hidden"
   },
   "outputs": [],
   "source": [
    "machine = EnigmaMachine.from_key_sheet(\n",
    "    reflector='C',\n",
    "    rotors='III II I',\n",
    "    plugboard_settings=''\n",
    ")\n",
    "machine.set_display('AEC')\n",
    "indice_coincidences(machine.process_text(CRYPTOGRAMMES[0]))"
   ]
  },
  {
   "cell_type": "code",
   "execution_count": null,
   "metadata": {
    "ExecuteTime": {
     "end_time": "2019-03-19T12:40:31.379484Z",
     "start_time": "2019-03-19T12:40:31.321535Z"
    },
    "collapsed": true,
    "hidden": true,
    "solution": "hidden"
   },
   "outputs": [],
   "source": [
    "machine = EnigmaMachine.from_key_sheet(\n",
    "    reflector='C',\n",
    "    rotors='III II I',\n",
    "    plugboard_settings='AB CD EF GH IJ KL'\n",
    ")\n",
    "machine.set_display('AEC')\n",
    "indice_coincidences(machine.process_text(CRYPTOGRAMMES[0]))"
   ]
  },
  {
   "cell_type": "markdown",
   "metadata": {
    "hidden": true
   },
   "source": [
    "** Exercice **\n",
    "\n",
    "Chiffrez les messages de votre choix avec les méthodes de chiffrement de César, affine, substitutions monoalphabétiques, Vigenère. Comparez les indices de coincidences des messages clairs et des chiffrés correspondant. Quelles remarques pouvez-vous formuler ? Expliquez !"
   ]
  },
  {
   "cell_type": "markdown",
   "metadata": {},
   "source": [
    "### Recherche des rotors"
   ]
  },
  {
   "cell_type": "markdown",
   "metadata": {},
   "source": [
    "L'exercice qui précède montre que si on déchiffre un message avec les bons réglages mais sans les appariements, le texte obtenu (encore du charabia incompréhensible) a un indice de coincidences bien supérieur.\n",
    "\n",
    "Et c'est justement les appariements qui rendent la recherche exhaustive de la clé inenvisageable. Si on les néglige, le nombre de clés est plus restreint, car il est égal à "
   ]
  },
  {
   "cell_type": "code",
   "execution_count": 19,
   "metadata": {
    "ExecuteTime": {
     "end_time": "2019-03-19T16:50:15.602568Z",
     "start_time": "2019-03-19T16:50:15.597481Z"
    }
   },
   "outputs": [
    {
     "data": {
      "text/plain": [
       "2109120"
      ]
     },
     "execution_count": 19,
     "metadata": {},
     "output_type": "execute_result"
    }
   ],
   "source": [
    "nb_refl * nb_rotors * nb_regl_rotors"
   ]
  },
  {
   "cell_type": "markdown",
   "metadata": {},
   "source": [
    "Avec ce nombre de clés, une recherche exhaustive commence à être envisageable avec des moyens informatiques.\n",
    "\n",
    "Nous allons encore limiter l'espace des clés en envisageant que seuls les rotors I II et III sont utilisés et que le réflecteur est B. Le nombre de clés est alors"
   ]
  },
  {
   "cell_type": "code",
   "execution_count": 20,
   "metadata": {
    "ExecuteTime": {
     "end_time": "2019-03-19T16:51:56.133888Z",
     "start_time": "2019-03-19T16:51:56.129314Z"
    }
   },
   "outputs": [
    {
     "data": {
      "text/plain": [
       "105456"
      ]
     },
     "execution_count": 20,
     "metadata": {},
     "output_type": "execute_result"
    }
   ],
   "source": [
    "6 * nb_regl_rotors"
   ]
  },
  {
   "cell_type": "markdown",
   "metadata": {},
   "source": [
    "C'est donc avec ces limitations que la fonction qui suit envisage la recherche exhaustive, et sélectionne parmi tous ces réglages possibles celui qui donne l'indice de coincidences le plus élevé."
   ]
  },
  {
   "cell_type": "code",
   "execution_count": 21,
   "metadata": {
    "ExecuteTime": {
     "end_time": "2019-03-19T16:52:14.685419Z",
     "start_time": "2019-03-19T16:52:14.675694Z"
    },
    "collapsed": true
   },
   "outputs": [],
   "source": [
    "def decrypte_machine_enigma_sans_fiches(chiffre):\n",
    "    '''\n",
    "    décrypte un message chiffre d'une machine enigma sans appariements\n",
    "    :param chiffre: (str) texte à déchiffrer\n",
    "    :return: (tuple) configuration probable d'une machine Enigma sans fiches sur le tableau de connexions\n",
    "    :CU: cette fonction ne convient que pour des machines Enigma n'utilisant que les trois rotors I II et III\n",
    "         et le réflecteur B\n",
    "    '''\n",
    "    # FORMAT_LIGNE = '\\rOrdre rotors : {:s} Pos rotors : {:s} IC max : {:f}'\n",
    "    ic_max = 0.0\n",
    "    config_rotors_max = ()\n",
    "    for ord_rot in ('I II III', 'I III II', 'II I III',\n",
    "                    'II III I', 'III I II', 'III II I'):\n",
    "        machine = EnigmaMachine.from_key_sheet(reflector='B',\n",
    "                                               rotors=ord_rot,\n",
    "                                               plugboard_settings='')\n",
    "        print(ord_rot)\n",
    "        for u in ALPHABET:\n",
    "            for v in ALPHABET:\n",
    "                for w in ALPHABET:\n",
    "                    pos_rotors = u + v + w\n",
    "                    machine.set_display(pos_rotors)\n",
    "                    message = machine.process_text(chiffre)\n",
    "                    ic = indice_coincidences(message)\n",
    "                    if ic > ic_max:\n",
    "                        config_rotors_max = (ic, ord_rot, pos_rotors)\n",
    "                        ic_max = ic\n",
    "                        #print('IC max = {:f} config : {} '.format(ic_max, config_rotors_max))\n",
    "                    #print(FORMAT_LIGNE.format(ord_rot, pos_rotors, ic_max), end='')\n",
    "    return config_rotors_max"
   ]
  },
  {
   "cell_type": "markdown",
   "metadata": {},
   "source": [
    "On applique la fonction au premier cryptogramme. (**Attention** le calcul prend plusieurs minutes.)"
   ]
  },
  {
   "cell_type": "code",
   "execution_count": 22,
   "metadata": {
    "ExecuteTime": {
     "end_time": "2019-03-19T16:58:15.613579Z",
     "start_time": "2019-03-19T16:52:25.347160Z"
    }
   },
   "outputs": [
    {
     "name": "stdout",
     "output_type": "stream",
     "text": [
      "I II III\n",
      "I III II\n",
      "II I III\n",
      "II III I\n",
      "III I II\n",
      "III II I\n"
     ]
    }
   ],
   "source": [
    "ic_max, ord_rotor, pos_rotors = decrypte_machine_enigma_sans_fiches(CRYPTOGRAMMES[1])"
   ]
  },
  {
   "cell_type": "code",
   "execution_count": 23,
   "metadata": {
    "ExecuteTime": {
     "end_time": "2019-03-19T16:58:29.883758Z",
     "start_time": "2019-03-19T16:58:29.876042Z"
    }
   },
   "outputs": [
    {
     "name": "stdout",
     "output_type": "stream",
     "text": [
      "Indice de coincidences maximal trouvé : 0.074392\n",
      "Configurations rotors : II I III ENI\n"
     ]
    }
   ],
   "source": [
    "print('Indice de coincidences maximal trouvé : {:f}'.format(ic_max))\n",
    "print('Configurations rotors : {:s} {:s}'.format(ord_rotor, pos_rotors))"
   ]
  },
  {
   "cell_type": "markdown",
   "metadata": {},
   "source": [
    "En fait ce premier cryptogramme a été chiffré avec une machine Enigma sans utiliser de fiches sur le tableau de connexions."
   ]
  },
  {
   "cell_type": "code",
   "execution_count": 24,
   "metadata": {
    "ExecuteTime": {
     "end_time": "2019-03-19T16:59:07.151263Z",
     "start_time": "2019-03-19T16:59:07.142013Z"
    }
   },
   "outputs": [
    {
     "data": {
      "text/plain": [
       "'COMMENTDIRELIMPRESSIONQUEPRODUITLECONTACTDEDIXCORPSPRESSESSURLAPLATEFORMEARRIEREDUNAUTOBUSSUNJOURVERSMIDIDUCOTEDELARUEDELISBONNECOMMENTEXPRIMERLIMPRESSIONQUEVOUSFAITLAVUEDUNPERSONNAGEAUCOUDIFFORMEMENTLONGETAUCHAPEAUDONTLERUBANESTREMPLACEONNESAITPOURQUOIPARUNBOUTDEFICELLECOMMENTRENDRELIMPRESSIONQUEDONNEUNEQUERELLEENTREUNVOYAGEURPLACIDEINJUSTEMENTACCUSEDEMARCHERVOLONTAIREMENTSURLESPIEDSDEQUELQUUNETCEGROTESQUEQUELQUUNENLOCCURRENCELEPERSONNAGECIDESSUSDECRITCOMMENTTRADUIRELIMPRESSIONQUEPROVOQUELAFUITEDECEDERNIERDEGUISANTSALACHETEDUVEULEPRETEXTEDEPROFITERDUNEPLACEASSISEENFINCOMMENTFORMULERLIMPRESSIONQUECAUSELAREAPPARITIONDECESIREDEVANTLAGARESAINTLAZAREDEUXHEURESPLUSTARDENCOMPAGNIEDUNAMIELEGANTQUILUISUGGERAITDESAMELIORATIONSVESTIMENTAIRES'"
      ]
     },
     "execution_count": 24,
     "metadata": {},
     "output_type": "execute_result"
    }
   ],
   "source": [
    "machine = EnigmaMachine.from_key_sheet(\n",
    "            reflector='B',\n",
    "            rotors=ord_rotor,\n",
    "            plugboard_settings='')\n",
    "machine.set_display(pos_rotors)\n",
    "machine.process_text(CRYPTOGRAMMES[1])"
   ]
  },
  {
   "cell_type": "markdown",
   "metadata": {
    "heading_collapsed": true
   },
   "source": [
    "### Recherche des appariements"
   ]
  },
  {
   "cell_type": "code",
   "execution_count": null,
   "metadata": {
    "ExecuteTime": {
     "end_time": "2019-03-19T12:46:57.297666Z",
     "start_time": "2019-03-19T12:46:57.223422Z"
    },
    "collapsed": true,
    "hidden": true
   },
   "outputs": [],
   "source": [
    "def trouve_appariement(chiffre, rot, rotpos, appar):\n",
    "    '''\n",
    "    détermine le nouvel appariement rendant maximal l'IC du dechiffré obtenu\n",
    "    :param chiffre: (str) texte à déchiffrer\n",
    "    :param rot: (str) placement des rotors\n",
    "    :param rotpos: (str) réglage des rotors\n",
    "    :param appar: (str) appariements déjà trouvés\n",
    "    :return: (str) l'appariement qui maximise l'indice de coincidence\n",
    "    '''\n",
    "    machine = EnigmaMachine.from_key_sheet(\n",
    "            reflector='B',\n",
    "            rotors=rot,\n",
    "            plugboard_settings=appar\n",
    "           )\n",
    "    machine.set_display(rotpos)\n",
    "    ic_max = indice_coincidences(machine.process_text(chiffre))\n",
    "    app_max = ''\n",
    "    for i in range(len(ALPHABET)):\n",
    "        for j in range(i + 1, len(ALPHABET)):\n",
    "            c1, c2 = ALPHABET[i], ALPHABET[j]\n",
    "            if c1 not in appar and c2 not in appar:\n",
    "                nouv_app = c1 + c2\n",
    "                essai_app = appar + ' ' + nouv_app\n",
    "#                print(essai_app)\n",
    "                machine = EnigmaMachine.from_key_sheet(reflector='B',\n",
    "                                                       rotors=rot,\n",
    "                                                       plugboard_settings=essai_app)\n",
    "                machine.set_display(rotpos)\n",
    "                clair = machine.process_text(chiffre)\n",
    "                ic = indice_coincidences(clair)\n",
    "                if ic > ic_max:\n",
    "#                    print(nouv_app,ic)\n",
    "                    ic_max = ic\n",
    "                    app_max = nouv_app\n",
    "    return app_max"
   ]
  },
  {
   "cell_type": "code",
   "execution_count": null,
   "metadata": {
    "ExecuteTime": {
     "end_time": "2019-03-19T12:51:45.487600Z",
     "start_time": "2019-03-19T12:46:57.299778Z"
    },
    "collapsed": true,
    "hidden": true
   },
   "outputs": [],
   "source": [
    "ic_max, ord_rotor, pos_rotors = decrypte_machine_enigma_sans_fiches(CRYPTOGRAMMES[2])"
   ]
  },
  {
   "cell_type": "code",
   "execution_count": null,
   "metadata": {
    "ExecuteTime": {
     "end_time": "2019-03-19T12:51:45.492847Z",
     "start_time": "2019-03-19T12:51:45.489131Z"
    },
    "collapsed": true,
    "hidden": true
   },
   "outputs": [],
   "source": [
    "print('Indice de coincidences maximal trouvé : {:f}'.format(ic_max))\n",
    "print('Configurations rotors : {:s} {:s}'.format(ord_rotor, pos_rotors))"
   ]
  },
  {
   "cell_type": "code",
   "execution_count": null,
   "metadata": {
    "ExecuteTime": {
     "end_time": "2019-03-19T12:51:45.759746Z",
     "start_time": "2019-03-19T12:51:45.494456Z"
    },
    "collapsed": true,
    "hidden": true
   },
   "outputs": [],
   "source": [
    "appariements = ''"
   ]
  },
  {
   "cell_type": "code",
   "execution_count": null,
   "metadata": {
    "ExecuteTime": {
     "end_time": "2019-03-19T12:51:46.744877Z",
     "start_time": "2019-03-19T12:51:45.761693Z"
    },
    "collapsed": true,
    "hidden": true
   },
   "outputs": [],
   "source": [
    "nouv_app = trouve_appariement(CRYPTOGRAMMES[2], ord_rotor, pos_rotors, appariements)\n",
    "nouv_app"
   ]
  },
  {
   "cell_type": "code",
   "execution_count": null,
   "metadata": {
    "ExecuteTime": {
     "end_time": "2019-03-19T12:51:46.755400Z",
     "start_time": "2019-03-19T12:51:46.746698Z"
    },
    "collapsed": true,
    "hidden": true
   },
   "outputs": [],
   "source": [
    "appariements += ' ' + nouv_app\n",
    "machine = EnigmaMachine.from_key_sheet(\n",
    "    reflector='B',\n",
    "    rotors=ord_rotor,\n",
    "    plugboard_settings=appariements\n",
    ")\n",
    "machine.set_display(pos_rotors)\n",
    "texte = machine.process_text(CRYPTOGRAMMES[2])\n",
    "print(texte)\n",
    "print('Indice de coincidences : {:f}'.format(indice_coincidences(texte)))"
   ]
  },
  {
   "cell_type": "code",
   "execution_count": null,
   "metadata": {
    "ExecuteTime": {
     "end_time": "2019-03-19T12:51:47.614157Z",
     "start_time": "2019-03-19T12:51:46.757659Z"
    },
    "collapsed": true,
    "hidden": true
   },
   "outputs": [],
   "source": [
    "nouv_app = trouve_appariement(CRYPTOGRAMMES[2], ord_rotor, pos_rotors, appariements)\n",
    "nouv_app"
   ]
  },
  {
   "cell_type": "code",
   "execution_count": null,
   "metadata": {
    "ExecuteTime": {
     "end_time": "2019-03-19T12:51:47.626602Z",
     "start_time": "2019-03-19T12:51:47.616116Z"
    },
    "collapsed": true,
    "hidden": true
   },
   "outputs": [],
   "source": [
    "appariements += ' ' + nouv_app\n",
    "machine = EnigmaMachine.from_key_sheet(\n",
    "    reflector='B',\n",
    "    rotors=ord_rotor,\n",
    "    plugboard_settings=appariements\n",
    ")\n",
    "machine.set_display(pos_rotors)\n",
    "texte = machine.process_text(CRYPTOGRAMMES[2])\n",
    "print(texte)\n",
    "print('Indice de coincidences : {:f}'.format(indice_coincidences(texte)))"
   ]
  },
  {
   "cell_type": "code",
   "execution_count": null,
   "metadata": {
    "ExecuteTime": {
     "end_time": "2019-03-19T12:51:48.336020Z",
     "start_time": "2019-03-19T12:51:47.628863Z"
    },
    "collapsed": true,
    "hidden": true
   },
   "outputs": [],
   "source": [
    "nouv_app = trouve_appariement(CRYPTOGRAMMES[2], ord_rotor, pos_rotors, appariements)\n",
    "nouv_app"
   ]
  },
  {
   "cell_type": "code",
   "execution_count": null,
   "metadata": {
    "ExecuteTime": {
     "end_time": "2019-03-19T12:51:48.344571Z",
     "start_time": "2019-03-19T12:51:48.337444Z"
    },
    "collapsed": true,
    "hidden": true
   },
   "outputs": [],
   "source": [
    "appariements += ' ' + nouv_app\n",
    "machine = EnigmaMachine.from_key_sheet(\n",
    "    reflector='B',\n",
    "    rotors=ord_rotor,\n",
    "    plugboard_settings=appariements\n",
    ")\n",
    "machine.set_display(pos_rotors)\n",
    "texte = machine.process_text(CRYPTOGRAMMES[2])\n",
    "print(texte)\n",
    "print('Indice de coincidences : {:f}'.format(indice_coincidences(texte)))"
   ]
  },
  {
   "cell_type": "code",
   "execution_count": null,
   "metadata": {
    "ExecuteTime": {
     "end_time": "2019-03-19T12:51:48.985620Z",
     "start_time": "2019-03-19T12:51:48.346465Z"
    },
    "collapsed": true,
    "hidden": true
   },
   "outputs": [],
   "source": [
    "nouv_app = trouve_appariement(CRYPTOGRAMMES[2], ord_rotor, pos_rotors, appariements)\n",
    "nouv_app"
   ]
  },
  {
   "cell_type": "code",
   "execution_count": null,
   "metadata": {
    "ExecuteTime": {
     "end_time": "2019-03-19T12:51:48.997551Z",
     "start_time": "2019-03-19T12:51:48.987215Z"
    },
    "collapsed": true,
    "hidden": true
   },
   "outputs": [],
   "source": [
    "appariements += ' ' + nouv_app\n",
    "machine = EnigmaMachine.from_key_sheet(\n",
    "    reflector='B',\n",
    "    rotors=ord_rotor,\n",
    "    plugboard_settings=appariements\n",
    ")\n",
    "machine.set_display(pos_rotors)\n",
    "texte = machine.process_text(CRYPTOGRAMMES[2])\n",
    "print(texte)\n",
    "print('Indice de coincidences : {:f}'.format(indice_coincidences(texte)))"
   ]
  },
  {
   "cell_type": "code",
   "execution_count": null,
   "metadata": {
    "ExecuteTime": {
     "end_time": "2019-03-19T12:51:49.535390Z",
     "start_time": "2019-03-19T12:51:49.000164Z"
    },
    "collapsed": true,
    "hidden": true
   },
   "outputs": [],
   "source": [
    "nouv_app = trouve_appariement(CRYPTOGRAMMES[2], ord_rotor, pos_rotors, appariements)\n",
    "nouv_app"
   ]
  },
  {
   "cell_type": "code",
   "execution_count": null,
   "metadata": {
    "ExecuteTime": {
     "end_time": "2019-03-19T12:51:49.548826Z",
     "start_time": "2019-03-19T12:51:49.537341Z"
    },
    "collapsed": true,
    "hidden": true
   },
   "outputs": [],
   "source": [
    "appariements += ' ' + nouv_app\n",
    "machine = EnigmaMachine.from_key_sheet(\n",
    "    reflector='B',\n",
    "    rotors=ord_rotor,\n",
    "    plugboard_settings=appariements\n",
    ")\n",
    "machine.set_display(pos_rotors)\n",
    "texte = machine.process_text(CRYPTOGRAMMES[2])\n",
    "print(texte)\n",
    "print('Indice de coincidences : {:f}'.format(indice_coincidences(texte)))"
   ]
  },
  {
   "cell_type": "code",
   "execution_count": null,
   "metadata": {
    "ExecuteTime": {
     "end_time": "2019-03-19T12:51:49.994513Z",
     "start_time": "2019-03-19T12:51:49.550798Z"
    },
    "collapsed": true,
    "hidden": true
   },
   "outputs": [],
   "source": [
    "nouv_app = trouve_appariement(CRYPTOGRAMMES[2], ord_rotor, pos_rotors, appariements)\n",
    "nouv_app"
   ]
  },
  {
   "cell_type": "code",
   "execution_count": null,
   "metadata": {
    "ExecuteTime": {
     "end_time": "2019-03-19T12:51:50.003493Z",
     "start_time": "2019-03-19T12:51:49.995972Z"
    },
    "collapsed": true,
    "hidden": true
   },
   "outputs": [],
   "source": [
    "appariements += ' ' + nouv_app\n",
    "machine = EnigmaMachine.from_key_sheet(\n",
    "    reflector='B',\n",
    "    rotors=ord_rotor,\n",
    "    plugboard_settings=appariements\n",
    ")\n",
    "machine.set_display(pos_rotors)\n",
    "texte = machine.process_text(CRYPTOGRAMMES[2])\n",
    "print(texte)\n",
    "print('Indice de coincidences : {:f}'.format(indice_coincidences(texte)))"
   ]
  },
  {
   "cell_type": "markdown",
   "metadata": {
    "hidden": true
   },
   "source": [
    "Bingo !"
   ]
  },
  {
   "cell_type": "code",
   "execution_count": null,
   "metadata": {
    "collapsed": true,
    "hidden": true
   },
   "outputs": [],
   "source": []
  }
 ],
 "metadata": {
  "kernelspec": {
   "display_name": "Python 3",
   "language": "python",
   "name": "python3"
  },
  "language_info": {
   "codemirror_mode": {
    "name": "ipython",
    "version": 3
   },
   "file_extension": ".py",
   "mimetype": "text/x-python",
   "name": "python",
   "nbconvert_exporter": "python",
   "pygments_lexer": "ipython3",
   "version": "3.4.2"
  },
  "toc": {
   "base_numbering": 1,
   "nav_menu": {
    "height": "267px",
    "width": "388px"
   },
   "number_sections": true,
   "sideBar": true,
   "skip_h1_title": true,
   "title_cell": "Table of Contents",
   "title_sidebar": "Contents",
   "toc_cell": false,
   "toc_position": {
    "height": "calc(100% - 180px)",
    "left": "10px",
    "top": "150px",
    "width": "179px"
   },
   "toc_section_display": true,
   "toc_window_display": false
  },
  "varInspector": {
   "cols": {
    "lenName": 16,
    "lenType": 16,
    "lenVar": 40
   },
   "kernels_config": {
    "python": {
     "delete_cmd_postfix": "",
     "delete_cmd_prefix": "del ",
     "library": "var_list.py",
     "varRefreshCmd": "print(var_dic_list())"
    },
    "r": {
     "delete_cmd_postfix": ") ",
     "delete_cmd_prefix": "rm(",
     "library": "var_list.r",
     "varRefreshCmd": "cat(var_dic_list()) "
    }
   },
   "types_to_exclude": [
    "module",
    "function",
    "builtin_function_or_method",
    "instance",
    "_Feature"
   ],
   "window_display": false
  }
 },
 "nbformat": 4,
 "nbformat_minor": 2
}
