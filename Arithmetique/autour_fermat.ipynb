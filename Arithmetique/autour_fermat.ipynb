{
 "cells": [
  {
   "cell_type": "markdown",
   "metadata": {},
   "source": [
    "# Autour du petit théorème de Fermat\n",
    "\n",
    "<img src=\"Pierre_de_Fermat.jpg\" width=\"15%\" alt=\"Pierre de Fermat\"/>\n",
    "\n",
    "<center>\n",
    "       MIAC Team <br/>\n",
    "       Faculté Sciences et Technologies<br/>\n",
    "       Université de Lille<br/>\n",
    "       Mars 2019\n",
    "</center>\n",
    "Sources iconographiques [Wikipedia](https://fr.wikipedia.org/wiki/Enigma_%28machine%29) et Univ. Lille.\n",
    "\n",
    "[<img src=\"cc-by-nc-sa.png\" align=\"right\" />](https://creativecommons.org/licenses/by-nc-sa/2.0/fr/)"
   ]
  },
  {
   "cell_type": "code",
   "execution_count": 36,
   "metadata": {
    "ExecuteTime": {
     "end_time": "2019-03-26T08:08:05.858420Z",
     "start_time": "2019-03-26T08:08:05.855509Z"
    },
    "collapsed": true
   },
   "outputs": [],
   "source": [
    "from arithmetique import *"
   ]
  },
  {
   "cell_type": "markdown",
   "metadata": {
    "heading_collapsed": true
   },
   "source": [
    "## (petit) Théorème de Fermat"
   ]
  },
  {
   "cell_type": "markdown",
   "metadata": {
    "heading_collapsed": true,
    "hidden": true
   },
   "source": [
    "### Énoncé"
   ]
  },
  {
   "cell_type": "markdown",
   "metadata": {
    "hidden": true
   },
   "source": [
    "**Théorème :**\n",
    "Soit $p$ un nombre premier. Pour tout entier $a\\in\\mathbb{Z}$, $p$ divise $a^p - a$. Autrement dit,\n",
    "$$ a^p \\equiv a \\pmod{p}.$$"
   ]
  },
  {
   "cell_type": "markdown",
   "metadata": {
    "hidden": true
   },
   "source": [
    "**Corollaire :** Soit $p$ un nombre premier. Pour tout entier $a\\in\\mathbb{Z}$, si $a$ est premier avec $p$ alors $p$ divise $a^{p-1}-1$. Autrement dit,\n",
    "\n",
    "$$\\mbox{pgcd}(a, p)=1 \\Longrightarrow a^{p-1}\\equiv 1\\pmod{p}.$$"
   ]
  },
  {
   "cell_type": "markdown",
   "metadata": {
    "hidden": true
   },
   "source": [
    "Le corollaire se déduit du théorème en utilisant le lemme de Gauss."
   ]
  },
  {
   "cell_type": "markdown",
   "metadata": {
    "heading_collapsed": true,
    "hidden": true
   },
   "source": [
    "### Preuve du théorème"
   ]
  },
  {
   "cell_type": "markdown",
   "metadata": {
    "hidden": true
   },
   "source": [
    "La preuve du théorème s'appuie sur le lemme suivant :"
   ]
  },
  {
   "cell_type": "markdown",
   "metadata": {
    "hidden": true
   },
   "source": [
    "** Lemme : ** Soit $p$ un nombre premier. Alors pour tout entier $k$ compris entre 1 et $p-1$, $p$ divise le coefficient binomial $\\binom{p}{k}$. Autrement dit,\n",
    "\n",
    "$$\\forall k \\in[1, p-1],\\quad \\binom{p}{k}\\equiv 0\\pmod{p}.$$"
   ]
  },
  {
   "cell_type": "markdown",
   "metadata": {
    "hidden": true
   },
   "source": [
    "** Preuve du lemme :** Comme\n",
    "$$ \\binom{p}{k} = \\frac{p!}{(p-k)!k!},$$\n",
    "on a\n",
    "$$ p! = k!(p-k)!\\binom{p}{k},$$\n",
    "et donc\n",
    "$$ p |k!(p-k)!\\binom{p}{k}.$$\n",
    "\n",
    "Et puisque $1\\leq k\\leq p-1$ et $p$ est premier, alors $p$ ne divise ni $k!$, ni $(p-k)!$. On en déduit d'après le lemme de Gauss que\n",
    "$$ p|\\binom{p}{k}.$$\n"
   ]
  },
  {
   "cell_type": "markdown",
   "metadata": {
    "hidden": true
   },
   "source": [
    "** Preuve du théorème :** On démontre par récurrence sur $a$ que la propriété $\\mathcal{P}(a) = p|(a^p - a)$ est vraie pour tout entier $a\\geq 0.\n",
    "\n",
    "* Cas de base : $\\mathcal{P}(0)$ est vraie puisque $p|0$.\n",
    "* Hérédité : hypothèse de récurrence : supposons la propriété $\\mathcal{P}(a)$ vraie pour un entier $a\\geq 0$.\n",
    "  La formule du binôme de Newton donne\n",
    "  $$ (a+1)^p = \\sum_{k=0}{p}\\binom{p}{k}a^{k} = 1 + \\binom{p}{1}a + \\binom{p}{2}a^2 + \\ldots + \\binom{p}{p-1}a^{p-1} + a^p.$$  \n",
    "  \n",
    "  Dans cette somme tous les termes en $a^k$ avec $1\\leq k \\leq p-1$ sont divisibles par $p$ d'après le lemme précédent. Par conséquent,\n",
    "  \n",
    "  $$ (a+1)^p \\equiv a^p + 1 \\pmod{p},$$\n",
    "  et d'après l'hypothèse de récurrence\n",
    "  $$ (a+1)^p \\equiv a + 1 \\pmod{p}.$$\n",
    "  \n",
    "  On en déduit donc que $p$ divise $(a+1)^p - (a+1)$ et donc que la propriété $\\mathcal{P}(a+1)$ est vraie.\n",
    "  \n",
    "Le théorème est ainsi démontré pour tout $a\\in\\mathbb{N}$. Pour les entier négatifs, \n",
    "\n",
    "* si $p=2$ $a^p$ a la même parité que $a$ et $a^p -a$ est donc toujours un nombre pair, donc divisible par 2 ;\n",
    "* si $p$ est un nombre premier autre que 2, donc impair, il suffit de se ramener au cas positif en remarquant que   $(-a)^p - (-a) = -(a^p -a)$."
   ]
  },
  {
   "cell_type": "markdown",
   "metadata": {
    "heading_collapsed": true,
    "hidden": true
   },
   "source": [
    "### Et la réciproque ?"
   ]
  },
  {
   "cell_type": "markdown",
   "metadata": {
    "hidden": true
   },
   "source": [
    "Le théorème de Fermat est une implication :\n",
    "\n",
    "$$ p\\mbox{ premier }\\Longrightarrow \\forall a\\in\\mathbb{Z}\\quad a^p\\equiv a\\pmod{p}.$$"
   ]
  },
  {
   "cell_type": "markdown",
   "metadata": {
    "hidden": true
   },
   "source": [
    "La réciproque est-elle vraie ?"
   ]
  },
  {
   "cell_type": "markdown",
   "metadata": {
    "hidden": true
   },
   "source": [
    "Remarquons tout d'abord que pour tout entier naturel $n$ non nul, la proposition $\\forall a\\in\\mathbb{Z}\\quad a^n\\equiv a\\pmod{n}$ est équivalente à la proposition $\\forall a\\in[0,n-1]\\quad a^n\\equiv a\\pmod{n}$.\n",
    "\n",
    "Il est en effet évident que la première implique la seconde. Que la seconde implique la première découle que tout entier $a$ est congru modulo à un entier $a'$ dans l'intervalle $[0, n-1]$, et qu'alors on a modulo $n$ :\n",
    "$$ a^n \\equiv a'^n \\equiv a' \\equiv a.$$"
   ]
  },
  {
   "cell_type": "markdown",
   "metadata": {
    "hidden": true
   },
   "source": [
    "Cherchons s'il existe un entier inférieur ou égal à 1000 qui contredit la réciproque, à savoir s'il existe un entier non premier $n$ tel que $\\forall a\\in\\mathbb{Z}\\quad a^n\\equiv a\\pmod{n}$. \n",
    "\n",
    "Compte tenu de la remarque précédente, il suffit de chercher un entier $n$ non premier tel que $\\forall a\\in[0,n-1]\\quad a^n\\equiv a\\pmod{n}$."
   ]
  },
  {
   "cell_type": "code",
   "execution_count": 35,
   "metadata": {
    "ExecuteTime": {
     "end_time": "2019-03-26T08:05:22.861219Z",
     "start_time": "2019-03-26T08:05:22.840253Z"
    },
    "hidden": true
   },
   "outputs": [
    {
     "data": {
      "text/plain": [
       "561"
      ]
     },
     "execution_count": 35,
     "metadata": {},
     "output_type": "execute_result"
    }
   ],
   "source": [
    "n_max = 1000\n",
    "n = 2\n",
    "while n <= n_max and (est_premier2(n) or any(a**n % n != a for a in range(n))):\n",
    "    n += 1\n",
    "n"
   ]
  },
  {
   "cell_type": "markdown",
   "metadata": {
    "hidden": true
   },
   "source": [
    "Le nombre trouvé étant inférieur ou égal à $n$, on a trouvé un entier qui contredit la réciproque. "
   ]
  },
  {
   "cell_type": "markdown",
   "metadata": {
    "hidden": true
   },
   "source": [
    "** Conclusion :** La réciproque du théorème de Fermat est fausse."
   ]
  },
  {
   "cell_type": "markdown",
   "metadata": {
    "heading_collapsed": true
   },
   "source": [
    "## Applications au calcul"
   ]
  },
  {
   "cell_type": "markdown",
   "metadata": {
    "hidden": true
   },
   "source": [
    "Cf polycopié"
   ]
  },
  {
   "cell_type": "markdown",
   "metadata": {
    "heading_collapsed": true
   },
   "source": [
    "## Application au test de (non) primalité"
   ]
  },
  {
   "cell_type": "markdown",
   "metadata": {
    "heading_collapsed": true,
    "hidden": true
   },
   "source": [
    "### $F_5$ est il un nombre premier ?"
   ]
  },
  {
   "cell_type": "markdown",
   "metadata": {
    "hidden": true
   },
   "source": [
    "Les *nombres de Fermat* sont les nombres de la forme $2^{2^n}+1$. On les note $F_n$. Voici les premiers nombres de Fermat :\n",
    "\n",
    "| $n$ | $F_n$ |\n",
    "|-----|-------|\n",
    "|  0  |   3   |\n",
    "|  1  |   5   |\n",
    "|  2  |  17   |\n",
    "|  3  | 257   |\n",
    "|  4  |65537  |\n",
    "\n",
    "Ces nombres sont tous premiers et Fermat le savait. Il se demandait si le nombre suivant, $F_5= 4294967297$ l'était.\n",
    "\n",
    "Saurez-vous lui répondre ?"
   ]
  },
  {
   "cell_type": "markdown",
   "metadata": {
    "hidden": true
   },
   "source": [
    "Voici une fonction pour calculer les nombres $F_n$,"
   ]
  },
  {
   "cell_type": "code",
   "execution_count": 2,
   "metadata": {
    "ExecuteTime": {
     "end_time": "2019-03-25T18:10:41.298542Z",
     "start_time": "2019-03-25T18:10:41.294312Z"
    },
    "collapsed": true,
    "hidden": true
   },
   "outputs": [],
   "source": [
    "nbre_fermat = lambda n: 2**(2**n) + 1"
   ]
  },
  {
   "cell_type": "markdown",
   "metadata": {
    "hidden": true
   },
   "source": [
    "et la liste de ces nombres jusqu'à $n=10$ :"
   ]
  },
  {
   "cell_type": "code",
   "execution_count": 3,
   "metadata": {
    "ExecuteTime": {
     "end_time": "2019-03-25T18:10:41.414504Z",
     "start_time": "2019-03-25T18:10:41.404678Z"
    },
    "hidden": true
   },
   "outputs": [
    {
     "data": {
      "text/plain": [
       "[3,\n",
       " 5,\n",
       " 17,\n",
       " 257,\n",
       " 65537,\n",
       " 4294967297,\n",
       " 18446744073709551617,\n",
       " 340282366920938463463374607431768211457,\n",
       " 115792089237316195423570985008687907853269984665640564039457584007913129639937,\n",
       " 13407807929942597099574024998205846127479365820592393377723561443721764030073546976801874298166903427690031858186486050853753882811946569946433649006084097,\n",
       " 179769313486231590772930519078902473361797697894230657273430081157732675805500963132708477322407536021120113879871393357658789768814416622492847430639474124377767893424865485276302219601246094119453082952085005768838150682342462881473913110540827237163350510684586298239947245938479716304835356329624224137217]"
      ]
     },
     "execution_count": 3,
     "metadata": {},
     "output_type": "execute_result"
    }
   ],
   "source": [
    "NBFermat = [nbre_fermat(n) for n in range(11)]\n",
    "NBFermat"
   ]
  },
  {
   "cell_type": "markdown",
   "metadata": {
    "hidden": true
   },
   "source": [
    "La croissance doublement exponentielle de cette suite de nombres fait que pour $n=10$ on a un nombre dont l'écriture en base 10 contient plusieurs centaines de chiffres. \n",
    "\n",
    "L'écriture binaire des nombres de Fermat est très simple : $F_n$ s'écrit avec deux bits à 1 séparés de $n$ bits nuls. Ainsi, la taille de l'écriture binaire de $F_n$ est égale à $n+2$.\n",
    "\n",
    "En base 10, le nombre de chiffres nécessaires pour écrire le nombre $F_n$ est $\\lfloor\\log_{10}(F_n)\\rfloor + 1$.\n",
    "Ce qui donne approximativement $\\approx 2^n\\log_{10}(2)$.\n",
    "\n",
    "Pour $n=10$ on obtient"
   ]
  },
  {
   "cell_type": "code",
   "execution_count": 4,
   "metadata": {
    "ExecuteTime": {
     "end_time": "2019-03-25T18:10:41.515043Z",
     "start_time": "2019-03-25T18:10:41.511451Z"
    },
    "hidden": true
   },
   "outputs": [
    {
     "data": {
      "text/plain": [
       "308.2547155599167"
      ]
     },
     "execution_count": 4,
     "metadata": {},
     "output_type": "execute_result"
    }
   ],
   "source": [
    "from math import log\n",
    "2**10*log(2, 10)"
   ]
  },
  {
   "cell_type": "markdown",
   "metadata": {
    "hidden": true
   },
   "source": [
    "$F_{10}$ est donc un nombre de 309 chiffres décimaux."
   ]
  },
  {
   "cell_type": "markdown",
   "metadata": {
    "hidden": true
   },
   "source": [
    "Mais revenons à la primalité éventuelle de $F_5$."
   ]
  },
  {
   "cell_type": "code",
   "execution_count": 5,
   "metadata": {
    "ExecuteTime": {
     "end_time": "2019-03-25T18:10:41.716581Z",
     "start_time": "2019-03-25T18:10:41.714404Z"
    },
    "collapsed": true,
    "hidden": true
   },
   "outputs": [],
   "source": [
    "F5 = nbre_fermat(5)"
   ]
  },
  {
   "cell_type": "markdown",
   "metadata": {
    "hidden": true
   },
   "source": [
    "Calculons $2^{F_5 - 1}\\pmod{F_5}$.\n",
    "\n",
    "**À la main, comme Fermat aurait pu le faire :** Il s'agit donc de calculer $2^{2^{2^5}}\\pmod{F_5}$. Cela revient (a priori) à répéter 32 fois de suite une élévation au carré et une réduction modulo $F_5$ (i.e. une division euclidienne).\n",
    "\n",
    "\\begin{align}\n",
    "   2^2 &\\equiv 4 \\pmod{F_5} \\equiv 4\\\\\n",
    "   4^2 &\\equiv 16\\pmod{F_5} \\equiv 16\\\\\n",
    "   16^2 &\\equiv 256\\pmod{F_5} \\equiv 256\\\\\n",
    "   256^2 &\\equiv 65536\\pmod{F_5}\\equiv 65536\\\\\n",
    "   65536^2 &\\equiv 4294967296\\pmod{F_5} \\equiv 4294967296\\\\\n",
    "\\end{align}\n",
    "Arrêtons-nous après ces cinq premières étapes (dont aucune ne nécessite de division) et remarquons que le dernier nombre obtenu est $F_5 - 1\\equiv -1 \\pmod{F_5}$. Cela signifie que la sixième étape va donner 1, et toutes les suivantes resteront sur 1. Par conséquent\n",
    "\n",
    "$$ 2^{F_5-1} \\equiv 1\\pmod{F_5}.$$\n",
    "\n",
    "**Avec Python :**"
   ]
  },
  {
   "cell_type": "code",
   "execution_count": 6,
   "metadata": {
    "ExecuteTime": {
     "end_time": "2019-03-25T18:10:41.818968Z",
     "start_time": "2019-03-25T18:10:41.815395Z"
    },
    "hidden": true
   },
   "outputs": [
    {
     "data": {
      "text/plain": [
       "1"
      ]
     },
     "execution_count": 6,
     "metadata": {},
     "output_type": "execute_result"
    }
   ],
   "source": [
    "expo_mod_rapide(2, F5-1, F5)"
   ]
  },
  {
   "cell_type": "markdown",
   "metadata": {
    "hidden": true
   },
   "source": [
    "On trouve 1 comme le prévoit le théorème de Fermat si $F_5$ est premier.\n",
    "\n",
    "Calculons $3^{F_5-1}\\pmod{F_5}$."
   ]
  },
  {
   "cell_type": "code",
   "execution_count": 7,
   "metadata": {
    "ExecuteTime": {
     "end_time": "2019-03-25T18:10:41.912289Z",
     "start_time": "2019-03-25T18:10:41.908557Z"
    },
    "hidden": true
   },
   "outputs": [
    {
     "data": {
      "text/plain": [
       "3029026160"
      ]
     },
     "execution_count": 7,
     "metadata": {},
     "output_type": "execute_result"
    }
   ],
   "source": [
    "expo_mod_rapide(3, F5 - 1, F5)"
   ]
  },
  {
   "cell_type": "markdown",
   "metadata": {
    "hidden": true
   },
   "source": [
    "On ne trouve pas 1 ! Or si $F_5$ était premier on aurait dû avoir 1.\n",
    "\n",
    "**Conclusion :** $F_5$ n'est pas premier.\n",
    "\n",
    "**Remarque :** nous avons pu prouver que $F_5$ n'est pas un nombre premier sans trouver de diviseur propre."
   ]
  },
  {
   "cell_type": "markdown",
   "metadata": {
    "hidden": true
   },
   "source": [
    "Voici une factorisation en nombres premiers de $F_5$ :"
   ]
  },
  {
   "cell_type": "code",
   "execution_count": 8,
   "metadata": {
    "ExecuteTime": {
     "end_time": "2019-03-25T18:10:43.123613Z",
     "start_time": "2019-03-25T18:10:42.102840Z"
    },
    "hidden": true
   },
   "outputs": [
    {
     "data": {
      "text/plain": [
       "[(641, 1), (6700417, 1)]"
      ]
     },
     "execution_count": 8,
     "metadata": {},
     "output_type": "execute_result"
    }
   ],
   "source": [
    "factorise(F5)"
   ]
  },
  {
   "cell_type": "markdown",
   "metadata": {
    "hidden": true
   },
   "source": [
    "### Et les nombres de Fermat suivant ?"
   ]
  },
  {
   "cell_type": "markdown",
   "metadata": {
    "hidden": true
   },
   "source": [
    "#### Commençons par $F_6$."
   ]
  },
  {
   "cell_type": "code",
   "execution_count": 9,
   "metadata": {
    "ExecuteTime": {
     "end_time": "2019-03-25T18:10:43.127398Z",
     "start_time": "2019-03-25T18:10:43.125031Z"
    },
    "collapsed": true,
    "hidden": true
   },
   "outputs": [],
   "source": [
    "F6 = nbre_fermat(6)"
   ]
  },
  {
   "cell_type": "code",
   "execution_count": 10,
   "metadata": {
    "ExecuteTime": {
     "end_time": "2019-03-25T18:10:43.193572Z",
     "start_time": "2019-03-25T18:10:43.128993Z"
    },
    "hidden": true
   },
   "outputs": [
    {
     "data": {
      "text/plain": [
       "8752249535465629170"
      ]
     },
     "execution_count": 10,
     "metadata": {},
     "output_type": "execute_result"
    }
   ],
   "source": [
    "expo_mod_rapide(3, F6-1, F6)"
   ]
  },
  {
   "cell_type": "markdown",
   "metadata": {
    "hidden": true
   },
   "source": [
    "$F_6$ n'est pas premier.\n",
    "\n",
    "Mais il semble bien plus difficile de calculer la décomposition en facteurs premiers de ce nombre : "
   ]
  },
  {
   "cell_type": "code",
   "execution_count": 11,
   "metadata": {
    "ExecuteTime": {
     "end_time": "2019-03-25T18:10:43.263522Z",
     "start_time": "2019-03-25T18:10:43.195870Z"
    },
    "collapsed": true,
    "hidden": true
   },
   "outputs": [],
   "source": [
    "# après une huit minutes de calculs, toujours pas de résultat \n",
    "# factorise(F6)"
   ]
  },
  {
   "cell_type": "markdown",
   "metadata": {
    "hidden": true
   },
   "source": [
    "Calculons le plus petit diviseur de $F_6$"
   ]
  },
  {
   "cell_type": "code",
   "execution_count": 12,
   "metadata": {
    "ExecuteTime": {
     "end_time": "2019-03-25T18:10:43.385997Z",
     "start_time": "2019-03-25T18:10:43.265617Z"
    },
    "hidden": true
   },
   "outputs": [
    {
     "data": {
      "text/plain": [
       "274177"
      ]
     },
     "execution_count": 12,
     "metadata": {},
     "output_type": "execute_result"
    }
   ],
   "source": [
    "p6 = plus_petit_diviseur(F6)\n",
    "p6"
   ]
  },
  {
   "cell_type": "markdown",
   "metadata": {
    "hidden": true
   },
   "source": [
    "On sait que ce plus petit diviseur est un nombre premier."
   ]
  },
  {
   "cell_type": "code",
   "execution_count": 13,
   "metadata": {
    "ExecuteTime": {
     "end_time": "2019-03-25T18:10:44.767853Z",
     "start_time": "2019-03-25T18:10:43.388464Z"
    },
    "hidden": true
   },
   "outputs": [
    {
     "name": "stdout",
     "output_type": "stream",
     "text": [
      "67280421310721\n"
     ]
    },
    {
     "data": {
      "text/plain": [
       "True"
      ]
     },
     "execution_count": 13,
     "metadata": {},
     "output_type": "execute_result"
    }
   ],
   "source": [
    "q6 = F6 // p6\n",
    "print(q6)\n",
    "est_premier2(q6)"
   ]
  },
  {
   "cell_type": "markdown",
   "metadata": {
    "hidden": true
   },
   "source": [
    "#### Le cas de $F_7$"
   ]
  },
  {
   "cell_type": "code",
   "execution_count": 14,
   "metadata": {
    "ExecuteTime": {
     "end_time": "2019-03-25T18:10:44.772698Z",
     "start_time": "2019-03-25T18:10:44.769907Z"
    },
    "collapsed": true,
    "hidden": true
   },
   "outputs": [],
   "source": [
    "F7 = nbre_fermat(7)"
   ]
  },
  {
   "cell_type": "markdown",
   "metadata": {
    "hidden": true
   },
   "source": [
    "Calculons $3^{F_7-1}\\pmod{F_7}$."
   ]
  },
  {
   "cell_type": "code",
   "execution_count": 15,
   "metadata": {
    "ExecuteTime": {
     "end_time": "2019-03-25T18:10:44.840348Z",
     "start_time": "2019-03-25T18:10:44.775037Z"
    },
    "hidden": true
   },
   "outputs": [
    {
     "data": {
      "text/plain": [
       "47511664169441434718291075092691853899"
      ]
     },
     "execution_count": 15,
     "metadata": {},
     "output_type": "execute_result"
    }
   ],
   "source": [
    "expo_mod_rapide(3, F7-1, F7)"
   ]
  },
  {
   "cell_type": "markdown",
   "metadata": {
    "hidden": true
   },
   "source": [
    "$F_7$ n'est pas un nombre premier comme en témoigne le nombre $a=3$."
   ]
  },
  {
   "cell_type": "code",
   "execution_count": 16,
   "metadata": {
    "ExecuteTime": {
     "end_time": "2019-03-25T18:10:44.907352Z",
     "start_time": "2019-03-25T18:10:44.842821Z"
    },
    "collapsed": true,
    "hidden": true
   },
   "outputs": [],
   "source": [
    "# Après une vingtaine de minutes de calculs pas de résultats\n",
    "# plus_petit_diviseur(F7)"
   ]
  },
  {
   "cell_type": "code",
   "execution_count": null,
   "metadata": {
    "ExecuteTime": {
     "end_time": "2019-03-25T17:43:25.994998Z",
     "start_time": "2019-03-25T17:43:25.990779Z"
    },
    "collapsed": true,
    "hidden": true
   },
   "outputs": [],
   "source": []
  },
  {
   "cell_type": "code",
   "execution_count": 17,
   "metadata": {
    "ExecuteTime": {
     "end_time": "2019-03-25T18:10:44.980309Z",
     "start_time": "2019-03-25T18:10:44.909343Z"
    },
    "hidden": true
   },
   "outputs": [
    {
     "data": {
      "text/plain": [
       "340282366920938463463374607431768211457"
      ]
     },
     "execution_count": 17,
     "metadata": {},
     "output_type": "execute_result"
    }
   ],
   "source": [
    "F7"
   ]
  },
  {
   "cell_type": "markdown",
   "metadata": {
    "hidden": true
   },
   "source": [
    "On voit sur cet exemple l'intérêt du théorème de Fermat pour prouver la non primalité de grands nombres entiers. "
   ]
  },
  {
   "cell_type": "markdown",
   "metadata": {
    "hidden": true
   },
   "source": [
    "### Témoin de non primalité"
   ]
  },
  {
   "cell_type": "markdown",
   "metadata": {
    "hidden": true
   },
   "source": [
    "Supposons que nous souhaitions savoir si un entier $n$ est premier.\n",
    "\n",
    "Si nous trouvons un entier $a$ tel que\n",
    "\n",
    "1. $\\mbox{pgcd}(a,n)=1$ ($a$ et $n$ sont premiers entre eux)\n",
    "2. $a^{n-1}\\not\\equiv 1 \\pmod{n}$,\n",
    "\n",
    "alors, en vertu du corollaire du théorème de Fermat, nous pouvons en conclure que le nombre $n$ n'est pas un nombre premier.\n",
    "\n",
    "On dit alors que le nombre $a$ est un *témoin de non primalité* de $n$.\n",
    "\n",
    "**Exemples :**\n",
    "3 est un témoin de non primalité de $F_5$.\n",
    "\n",
    "**Remarques :** \n",
    "\n",
    "1. 0 et 1 ne sont témoin de non primalité d'aucun nombre.\n",
    "2. Si $a$ est un témoin de non primalité de $n$, alors tout nombre $a'\\equiv a\\pmod{n}$ est aussi un témoin de non primalité. On en déduit que si un entier $n$ possède des témoins de non primalité, il en a au moins un dans l'intervalle $[2, n- 1]$. "
   ]
  },
  {
   "cell_type": "code",
   "execution_count": 18,
   "metadata": {
    "ExecuteTime": {
     "end_time": "2019-03-25T18:10:45.043335Z",
     "start_time": "2019-03-25T18:10:44.983079Z"
    },
    "collapsed": true,
    "hidden": true
   },
   "outputs": [],
   "source": [
    "def est_temoin_non_primalite(a, n):\n",
    "    '''\n",
    "    :param a, n: (int)\n",
    "    :return: (bool)\n",
    "        - True si a est un témoin de non primalité de n\n",
    "        - False sinon\n",
    "    :CU: n > 1\n",
    "    :Exemples:\n",
    "    \n",
    "    >>> n = 2**32 + 1\n",
    "    >>> est_temoin_non_primalite(2, n)\n",
    "    False\n",
    "    >>> est_temoin_non_primalite(3, n)\n",
    "    True\n",
    "    '''\n",
    "    return pgcd(a, n) == 1 and pow(a, n-1, n) != 1"
   ]
  },
  {
   "cell_type": "markdown",
   "metadata": {
    "hidden": true
   },
   "source": [
    "Un nombre premier ne peut pas avoir de témoin de non primalité. \n",
    "\n",
    "Par exemple 17 n'a aucun témoin de non primalité dans l'intervalle [2, 16] (et donc aucun en dehors de cet intervalle) :"
   ]
  },
  {
   "cell_type": "code",
   "execution_count": 19,
   "metadata": {
    "ExecuteTime": {
     "end_time": "2019-03-25T18:10:45.115762Z",
     "start_time": "2019-03-25T18:10:45.045575Z"
    },
    "hidden": true
   },
   "outputs": [
    {
     "data": {
      "text/plain": [
       "False"
      ]
     },
     "execution_count": 19,
     "metadata": {},
     "output_type": "execute_result"
    }
   ],
   "source": [
    "p = 17\n",
    "any(est_temoin_non_primalite(a, p) for a in range(2, p))"
   ]
  },
  {
   "cell_type": "markdown",
   "metadata": {
    "hidden": true
   },
   "source": [
    "Considérons un nombre composé $n$ et cherchons ses témoins de non primalité dans l'intervalle $[2, n-1]$."
   ]
  },
  {
   "cell_type": "code",
   "execution_count": 20,
   "metadata": {
    "ExecuteTime": {
     "end_time": "2019-03-25T18:10:45.185401Z",
     "start_time": "2019-03-25T18:10:45.118468Z"
    },
    "hidden": true
   },
   "outputs": [
    {
     "data": {
      "text/plain": [
       "[3, 7, 9]"
      ]
     },
     "execution_count": 20,
     "metadata": {},
     "output_type": "execute_result"
    }
   ],
   "source": [
    "n = 10\n",
    "temoins = [a for a in range(2, n) if est_temoin_non_primalite(a, n)]\n",
    "temoins"
   ]
  },
  {
   "cell_type": "markdown",
   "metadata": {
    "hidden": true
   },
   "source": [
    "Le nombre $n=${{n}} possède {{len(temoins)}} témoins dans l'intervalle [2, {{n-1}}]."
   ]
  },
  {
   "cell_type": "code",
   "execution_count": 21,
   "metadata": {
    "ExecuteTime": {
     "end_time": "2019-03-25T18:10:45.250848Z",
     "start_time": "2019-03-25T18:10:45.188987Z"
    },
    "collapsed": true,
    "hidden": true
   },
   "outputs": [],
   "source": [
    "def liste_temoins(n):\n",
    "    return [a for a in range(2, n) if est_temoin_non_primalite(a, n)]"
   ]
  },
  {
   "cell_type": "markdown",
   "metadata": {
    "hidden": true
   },
   "source": [
    "Calculons le nombre de témoins de non primalité pour les entiers de 3 à 100."
   ]
  },
  {
   "cell_type": "code",
   "execution_count": 22,
   "metadata": {
    "ExecuteTime": {
     "end_time": "2019-03-25T18:10:45.340818Z",
     "start_time": "2019-03-25T18:10:45.252806Z"
    },
    "hidden": true
   },
   "outputs": [
    {
     "name": "stdout",
     "output_type": "stream",
     "text": [
      "  3 :   0  0.00%\n",
      "  4 :   1  50.00%\n",
      "  5 :   0  0.00%\n",
      "  6 :   1  25.00%\n",
      "  7 :   0  0.00%\n",
      "  8 :   3  50.00%\n",
      "  9 :   4  57.14%\n",
      " 10 :   3  37.50%\n",
      " 11 :   0  0.00%\n",
      " 12 :   3  30.00%\n",
      " 13 :   0  0.00%\n",
      " 14 :   5  41.67%\n",
      " 15 :   4  30.77%\n",
      " 16 :   7  50.00%\n",
      " 17 :   0  0.00%\n",
      " 18 :   5  31.25%\n",
      " 19 :   0  0.00%\n",
      " 20 :   7  38.89%\n",
      " 21 :   8  42.11%\n",
      " 22 :   9  45.00%\n",
      " 23 :   0  0.00%\n",
      " 24 :   7  31.82%\n",
      " 25 :  16  69.57%\n",
      " 26 :  11  45.83%\n",
      " 27 :  16  64.00%\n",
      " 28 :   9  34.62%\n",
      " 29 :   0  0.00%\n",
      " 30 :   7  25.00%\n",
      " 31 :   0  0.00%\n",
      " 32 :  15  50.00%\n",
      " 33 :  16  51.61%\n",
      " 34 :  15  46.88%\n",
      " 35 :  20  60.61%\n",
      " 36 :  11  32.35%\n",
      " 37 :   0  0.00%\n",
      " 38 :  17  47.22%\n",
      " 39 :  20  54.05%\n",
      " 40 :  15  39.47%\n",
      " 41 :   0  0.00%\n",
      " 42 :  11  27.50%\n",
      " 43 :   0  0.00%\n",
      " 44 :  19  45.24%\n",
      " 45 :  16  37.21%\n",
      " 46 :  21  47.73%\n",
      " 47 :   0  0.00%\n",
      " 48 :  15  32.61%\n",
      " 49 :  36  76.60%\n",
      " 50 :  19  39.58%\n",
      " 51 :  28  57.14%\n",
      " 52 :  21  42.00%\n",
      " 53 :   0  0.00%\n",
      " 54 :  17  32.69%\n",
      " 55 :  36  67.92%\n",
      " 56 :  23  42.59%\n",
      " 57 :  32  58.18%\n",
      " 58 :  27  48.21%\n",
      " 59 :   0  0.00%\n",
      " 60 :  15  25.86%\n",
      " 61 :   0  0.00%\n",
      " 62 :  29  48.33%\n",
      " 63 :  32  52.46%\n",
      " 64 :  31  50.00%\n",
      " 65 :  32  50.79%\n",
      " 66 :  15  23.44%\n",
      " 67 :   0  0.00%\n",
      " 68 :  31  46.97%\n",
      " 69 :  40  59.70%\n",
      " 70 :  21  30.88%\n",
      " 71 :   0  0.00%\n",
      " 72 :  23  32.86%\n",
      " 73 :   0  0.00%\n",
      " 74 :  35  48.61%\n",
      " 75 :  36  49.32%\n",
      " 76 :  33  44.59%\n",
      " 77 :  56  74.67%\n",
      " 78 :  23  30.26%\n",
      " 79 :   0  0.00%\n",
      " 80 :  31  39.74%\n",
      " 81 :  52  65.82%\n",
      " 82 :  39  48.75%\n",
      " 83 :   0  0.00%\n",
      " 84 :  23  28.05%\n",
      " 85 :  48  57.83%\n",
      " 86 :  41  48.81%\n",
      " 87 :  52  61.18%\n",
      " 88 :  39  45.35%\n",
      " 89 :   0  0.00%\n",
      " 90 :  23  26.14%\n",
      " 91 :  36  40.45%\n",
      " 92 :  43  47.78%\n",
      " 93 :  56  61.54%\n",
      " 94 :  45  48.91%\n",
      " 95 :  68  73.12%\n",
      " 96 :  31  32.98%\n",
      " 97 :   0  0.00%\n",
      " 98 :  41  42.71%\n",
      " 99 :  56  57.73%\n",
      "100 :  39  39.80%\n"
     ]
    }
   ],
   "source": [
    "n_max = 100\n",
    "listes_temoins = [liste_temoins(n) for n in range(3, n_max + 1)]\n",
    "for n in range(3, n_max + 1):\n",
    "    temoins = listes_temoins[n - 3]\n",
    "    print('{:3d} : {:3d}  {:.2%}'.format(n, len(temoins), len(temoins)/(n - 2)))"
   ]
  },
  {
   "cell_type": "markdown",
   "metadata": {
    "hidden": true
   },
   "source": [
    "Seuls les nombres premiers semblent n'avoir aucun témoin de non primalité. Est-ce bien le cas ?"
   ]
  },
  {
   "cell_type": "code",
   "execution_count": 23,
   "metadata": {
    "ExecuteTime": {
     "end_time": "2019-03-25T18:10:45.585677Z",
     "start_time": "2019-03-25T18:10:45.342738Z"
    },
    "hidden": true
   },
   "outputs": [
    {
     "name": "stdout",
     "output_type": "stream",
     "text": [
      "561\n",
      "[(3, 1), (11, 1), (17, 1)]\n",
      "[]\n"
     ]
    }
   ],
   "source": [
    "n = 100\n",
    "while est_premier2(n) or len(liste_temoins(n)) != 0:\n",
    "    n += 1\n",
    "print(n)\n",
    "print(factorise(n))\n",
    "print(liste_temoins(n))"
   ]
  },
  {
   "cell_type": "markdown",
   "metadata": {
    "hidden": true
   },
   "source": [
    "561 est le plus petit nombre non premier qui ne possède aucun témoin de non primalité."
   ]
  },
  {
   "cell_type": "markdown",
   "metadata": {
    "hidden": true
   },
   "source": [
    "### Nombres de Carmichael"
   ]
  },
  {
   "cell_type": "markdown",
   "metadata": {
    "hidden": true
   },
   "source": [
    "Un nombre de Carmichael est un nombre entier $n$ qui n'est pas premier et pour lequel, dans l'intervalle $[1, n-1]$,  il n'existe aucun témoin de non primalité autre que les nombres non premiers avec $n$. Autrement dit,  un entier composé $n$ est un nombre de Carmichael si pour tout entier $a\\in[1, n-1]$ on a\n",
    "\n",
    "$$ \\mbox{pgcd}(a, n) = 1 \\Longrightarrow a^{n-1}\\equiv 1 \\pmod{n}.$$"
   ]
  },
  {
   "cell_type": "markdown",
   "metadata": {
    "hidden": true
   },
   "source": [
    "**Théorème de Korselt (1899)** Un entier positif composé $n$ est un nombre de Carmichael si et seulement si aucun carré de nombre premier ne divise $n$ (on dit que $n$ est sans facteur carré) et pour chaque diviseur premier $p$ de $n$, le nombre $p - 1$ divise $n - 1$."
   ]
  },
  {
   "cell_type": "markdown",
   "metadata": {
    "hidden": true
   },
   "source": [
    "On en déduit que la connaissance de la décomposition en facteurs premiers d'un entier permet de savoir si ce nombre est un nombre de Carmichael.\n",
    "\n",
    "Soit $n$ un entier dont la décomposition est\n",
    "\n",
    "$$ n = \\prod_{i=1}^{r}p_i^{\\alpha_i},$$\n",
    "les $p_i$ étant des nombres premiers distincts et les $\\alpha_i$ des entiers positifs non nuls, alors $n$ est un nombre de Carmichael si et seulement si les trois conditions suivantes sont réunies :\n",
    "\n",
    "1. pour tout $i=1, \\ldots, r$, on a $\\alpha_i = 1$, i.e. $n$ n'est divisible par aucun carré de nombres premiers ;\n",
    "2. $r\\geq 2$, i.e. $n$ n'est pas un nombre premier ;\n",
    "3. pour tout $i=1, \\ldots, r$, on a $n-1\\equiv 0 \\pmod{p_i - 1}$. "
   ]
  },
  {
   "cell_type": "code",
   "execution_count": 24,
   "metadata": {
    "ExecuteTime": {
     "end_time": "2019-03-25T18:10:45.594337Z",
     "start_time": "2019-03-25T18:10:45.589551Z"
    },
    "collapsed": true,
    "hidden": true
   },
   "outputs": [],
   "source": [
    "def est_carmichael(n):\n",
    "    '''\n",
    "    :param n: (int)\n",
    "    :return: (bool)\n",
    "       - True si n est un nombre de Carmichael\n",
    "       - False sinon\n",
    "    :CU: n > 0\n",
    "    :Exemples:\n",
    "    \n",
    "    >>> any(est_carmichael(k) for k in range(1, 561))\n",
    "    False\n",
    "    >>> est_carmichael(561)\n",
    "    True\n",
    "    '''\n",
    "    fact = factorise(n)\n",
    "    r = len(fact)\n",
    "    return (r > 1 and\n",
    "            all(fact[i][1] == 1 for i in range(r)) and\n",
    "            all((n - 1) % (fact[i][0] - 1) == 0 for i in range(r)))"
   ]
  },
  {
   "cell_type": "markdown",
   "metadata": {
    "hidden": true
   },
   "source": [
    "Le plus petit nombre de Carmichael est 561."
   ]
  },
  {
   "cell_type": "code",
   "execution_count": 25,
   "metadata": {
    "ExecuteTime": {
     "end_time": "2019-03-25T18:10:45.678692Z",
     "start_time": "2019-03-25T18:10:45.597484Z"
    },
    "hidden": true
   },
   "outputs": [
    {
     "data": {
      "text/plain": [
       "False"
      ]
     },
     "execution_count": 25,
     "metadata": {},
     "output_type": "execute_result"
    }
   ],
   "source": [
    "any(est_carmichael(k) for k in range(1, 561))"
   ]
  },
  {
   "cell_type": "code",
   "execution_count": 26,
   "metadata": {
    "ExecuteTime": {
     "end_time": "2019-03-25T18:10:45.751294Z",
     "start_time": "2019-03-25T18:10:45.681169Z"
    },
    "hidden": true
   },
   "outputs": [
    {
     "data": {
      "text/plain": [
       "True"
      ]
     },
     "execution_count": 26,
     "metadata": {},
     "output_type": "execute_result"
    }
   ],
   "source": [
    "est_carmichael(561)"
   ]
  },
  {
   "cell_type": "markdown",
   "metadata": {
    "hidden": true
   },
   "source": [
    "Il n'y a que sept nombres de Carmichael inférieurs ou égaux à 10000."
   ]
  },
  {
   "cell_type": "code",
   "execution_count": 27,
   "metadata": {
    "ExecuteTime": {
     "end_time": "2019-03-25T18:10:48.018596Z",
     "start_time": "2019-03-25T18:10:45.753439Z"
    },
    "hidden": true
   },
   "outputs": [
    {
     "data": {
      "text/plain": [
       "[561, 1105, 1729, 2465, 2821, 6601, 8911]"
      ]
     },
     "execution_count": 27,
     "metadata": {},
     "output_type": "execute_result"
    }
   ],
   "source": [
    "[k for k in range(2, 10000) if est_carmichael(k)]"
   ]
  },
  {
   "cell_type": "markdown",
   "metadata": {
    "hidden": true
   },
   "source": [
    "** Remarque : ** le prédicat réalisé pour tester si un nombre est un nombre de Carmichael s'appuie sur la décomposition en facteurs premiers de ce nombre. Or à ce jour on ne connaît aucun algorithme efficace de factorisation des nombres entiers."
   ]
  },
  {
   "cell_type": "markdown",
   "metadata": {
    "hidden": true
   },
   "source": [
    "### Test de non primalité"
   ]
  },
  {
   "cell_type": "markdown",
   "metadata": {
    "hidden": true
   },
   "source": [
    "On peut utiliser le théorème de Fermat pour prouver la non primalité de certains nombres. Il suffit pour cela de trouver un témoin de non primalité de ce nombre."
   ]
  },
  {
   "cell_type": "markdown",
   "metadata": {
    "hidden": true
   },
   "source": [
    "La fonction qui suit, est un prédicat qui cherche au hasard un témoin de non primalité d'un entier $n$ dans l'intervalle $[2, n-1]$ (on rappelle que si un nombre $n$ possède des témoins de non primalité, alors il en a dans cet intervalle). Bien entendu, en choisissant des nombres au hasard, on n'est pas certain d'avoir un témoin de non primalité. L'algorithme itère donc ces choix au hasard, jusqu'à trouver un témoin ou à atteindre un nombre maximal d'essais fixé (ici par défaut à 20)."
   ]
  },
  {
   "cell_type": "code",
   "execution_count": 28,
   "metadata": {
    "ExecuteTime": {
     "end_time": "2019-03-25T18:10:48.023676Z",
     "start_time": "2019-03-25T18:10:48.020313Z"
    },
    "collapsed": true,
    "hidden": true
   },
   "outputs": [],
   "source": [
    "from random import randrange\n",
    "def est_compose(n, nbre_essais=20):\n",
    "    '''\n",
    "    :param n: (int)\n",
    "    ;param nbre_essais: (int) nbre maximal de tentatives de trouver un témoin de non primalité\n",
    "    :return: (bool)\n",
    "       - True si un témoin de non primalité a été trouvé\n",
    "       - False sinon\n",
    "    :CU: n > 2\n",
    "\n",
    "    '''\n",
    "    a = randrange(2, n)\n",
    "    essai = 0\n",
    "    while essai <= nbre_essais and not est_temoin_non_primalite(a, n):\n",
    "        a = randrange(2, n)\n",
    "        essai += 1\n",
    "    return essai < nbre_essais"
   ]
  },
  {
   "cell_type": "markdown",
   "metadata": {
    "hidden": true
   },
   "source": [
    "Lorsque le nombre passé en paramètre est un nombre premier, l'absence de témoins fait que le prédicat fournira toujours une réponse correcte : `False`. "
   ]
  },
  {
   "cell_type": "code",
   "execution_count": 29,
   "metadata": {
    "ExecuteTime": {
     "end_time": "2019-03-25T18:10:48.094911Z",
     "start_time": "2019-03-25T18:10:48.025862Z"
    },
    "hidden": true
   },
   "outputs": [
    {
     "data": {
      "text/plain": [
       "[False,\n",
       " False,\n",
       " False,\n",
       " False,\n",
       " False,\n",
       " False,\n",
       " False,\n",
       " False,\n",
       " False,\n",
       " False,\n",
       " False,\n",
       " False,\n",
       " False,\n",
       " False,\n",
       " False,\n",
       " False,\n",
       " False,\n",
       " False,\n",
       " False,\n",
       " False,\n",
       " False,\n",
       " False,\n",
       " False,\n",
       " False]"
      ]
     },
     "execution_count": 29,
     "metadata": {},
     "output_type": "execute_result"
    }
   ],
   "source": [
    "[est_compose(n) for n in eratosthene(100)[1:]]"
   ]
  },
  {
   "cell_type": "markdown",
   "metadata": {
    "hidden": true
   },
   "source": [
    "Mais lorsque un nombre est composé, il peut fournir des réponses fausses."
   ]
  },
  {
   "cell_type": "code",
   "execution_count": 30,
   "metadata": {
    "ExecuteTime": {
     "end_time": "2019-03-25T18:10:48.196095Z",
     "start_time": "2019-03-25T18:10:48.096396Z"
    },
    "hidden": true
   },
   "outputs": [
    {
     "data": {
      "text/plain": [
       "[False,\n",
       " False,\n",
       " False,\n",
       " False,\n",
       " False,\n",
       " True,\n",
       " True,\n",
       " False,\n",
       " False,\n",
       " False,\n",
       " True,\n",
       " True,\n",
       " True,\n",
       " False,\n",
       " True,\n",
       " False,\n",
       " False,\n",
       " False,\n",
       " False,\n",
       " True]"
      ]
     },
     "execution_count": 30,
     "metadata": {},
     "output_type": "execute_result"
    }
   ],
   "source": [
    "[est_compose(18, nbre_essais=1) for _ in range(20)]"
   ]
  },
  {
   "cell_type": "markdown",
   "metadata": {
    "hidden": true
   },
   "source": [
    "Si on appelle le prédicat avec un nombre de tentatives égal à sa valeur par défaut (20)"
   ]
  },
  {
   "cell_type": "code",
   "execution_count": 31,
   "metadata": {
    "ExecuteTime": {
     "end_time": "2019-03-25T18:10:48.259925Z",
     "start_time": "2019-03-25T18:10:48.199654Z"
    },
    "hidden": true
   },
   "outputs": [
    {
     "data": {
      "text/plain": [
       "[True,\n",
       " True,\n",
       " True,\n",
       " True,\n",
       " True,\n",
       " True,\n",
       " True,\n",
       " True,\n",
       " True,\n",
       " True,\n",
       " True,\n",
       " True,\n",
       " True,\n",
       " True,\n",
       " True,\n",
       " True,\n",
       " True,\n",
       " True,\n",
       " True,\n",
       " True]"
      ]
     },
     "execution_count": 31,
     "metadata": {},
     "output_type": "execute_result"
    }
   ],
   "source": [
    "[est_compose(18) for _ in range(20)]"
   ]
  },
  {
   "cell_type": "markdown",
   "metadata": {
    "hidden": true
   },
   "source": [
    "Bien entendu, les nombres de Carmichael font que ce prédicat fournit toujours une réponse fausse."
   ]
  },
  {
   "cell_type": "code",
   "execution_count": 32,
   "metadata": {
    "ExecuteTime": {
     "end_time": "2019-03-25T18:10:48.333743Z",
     "start_time": "2019-03-25T18:10:48.262743Z"
    },
    "hidden": true
   },
   "outputs": [
    {
     "data": {
      "text/plain": [
       "False"
      ]
     },
     "execution_count": 32,
     "metadata": {},
     "output_type": "execute_result"
    }
   ],
   "source": [
    "est_compose(561)"
   ]
  },
  {
   "cell_type": "code",
   "execution_count": 33,
   "metadata": {
    "ExecuteTime": {
     "end_time": "2019-03-25T18:10:48.406237Z",
     "start_time": "2019-03-25T18:10:48.337247Z"
    },
    "hidden": true
   },
   "outputs": [
    {
     "data": {
      "text/plain": [
       "[True, True, True, True, True, True]"
      ]
     },
     "execution_count": 33,
     "metadata": {},
     "output_type": "execute_result"
    }
   ],
   "source": [
    "[est_compose(nbre_fermat(n)) for n in (5, 6, 7, 8, 9, 10)]"
   ]
  },
  {
   "cell_type": "markdown",
   "metadata": {
    "collapsed": true,
    "hidden": true
   },
   "source": [
    "Résumons les propriétés de notre prédicat :\n",
    "\n",
    "1. Il est *probabiliste*, car il effectue des choix au hasard.\n",
    "2. Il peut produire des réponses fausses selon les modalités suivantes :\n",
    "     \n",
    "   * si le nombre passé en paramètre est un nombre premier, le prédicat répond toujours correctement : `False` ;\n",
    "   * si le nombre est composé, la réponse fournie par le prédicat peut être correcte (`True`) ou non (`False`).\n",
    "      Hormis pour les nombres de Carmichael pour lesquels la réponse est toujours incorrecte, la probabilité d'avoir une réponse incorrecte décroît en tendant vers 0 avec le nombre d'essais.\n",
    "\n",
    "Dans la pratique, si un appel à `est_compose` donne la réponse\n",
    "\n",
    "1. `True`, alors cette réponse est correcte et on sait avec certitude que le nombre est composé, et n'est donc pas premier ;\n",
    "2. `False`, alors cette réponse est peut-être erronée, la probabilité que ce soit le cas tendant vers 0 lorsque le nombre d'essais tend vers l'infini, sauf si le nombre est un nombre de Carmichael.\n"
   ]
  },
  {
   "cell_type": "markdown",
   "metadata": {
    "hidden": true
   },
   "source": [
    "** Conclusion :** le petit théorème de Fermat permet de prouver la non primalité de beaucoup de nombres en recourant à des tirages au hasard. Malheureusement l'existence d'une infinité de nombres de Carmichael qui font échouer systématiquement les tests, ne permet pas de garantir que lorsqu'un nombre est déclaré non composé par ces tests, il le soit avec une probabilité aussi proche que 1 que l'on veut.\n",
    "\n",
    "Heureusement, il existe d'autres tests probabilistes pour lesquels il n'existe pas de nombres les mettant systématiquement en défaut comme les nombres de Carmichael. "
   ]
  },
  {
   "cell_type": "code",
   "execution_count": null,
   "metadata": {
    "collapsed": true,
    "hidden": true
   },
   "outputs": [],
   "source": []
  }
 ],
 "metadata": {
  "kernelspec": {
   "display_name": "Python 3",
   "language": "python",
   "name": "python3"
  },
  "language_info": {
   "codemirror_mode": {
    "name": "ipython",
    "version": 3
   },
   "file_extension": ".py",
   "mimetype": "text/x-python",
   "name": "python",
   "nbconvert_exporter": "python",
   "pygments_lexer": "ipython3",
   "version": "3.4.2"
  },
  "toc": {
   "base_numbering": 1,
   "nav_menu": {},
   "number_sections": true,
   "sideBar": true,
   "skip_h1_title": true,
   "title_cell": "Table of Contents",
   "title_sidebar": "Contents",
   "toc_cell": false,
   "toc_position": {},
   "toc_section_display": true,
   "toc_window_display": false
  },
  "varInspector": {
   "cols": {
    "lenName": 16,
    "lenType": 16,
    "lenVar": 40
   },
   "kernels_config": {
    "python": {
     "delete_cmd_postfix": "",
     "delete_cmd_prefix": "del ",
     "library": "var_list.py",
     "varRefreshCmd": "print(var_dic_list())"
    },
    "r": {
     "delete_cmd_postfix": ") ",
     "delete_cmd_prefix": "rm(",
     "library": "var_list.r",
     "varRefreshCmd": "cat(var_dic_list()) "
    }
   },
   "types_to_exclude": [
    "module",
    "function",
    "builtin_function_or_method",
    "instance",
    "_Feature"
   ],
   "window_display": false
  }
 },
 "nbformat": 4,
 "nbformat_minor": 2
}
